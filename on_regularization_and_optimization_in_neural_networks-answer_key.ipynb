{
 "cells": [
  {
   "cell_type": "markdown",
   "metadata": {},
   "source": [
    "# Regularization and Optimization in Neural Networks\n",
    "\n",
    "## Regularization of NNs\n",
    "\n",
    "Does regularization make sense in the context of neural networks? <br/>\n",
    "\n",
    "Yes! We still have all of the salient ingredients: a loss function, overfitting vs. underfitting, and coefficients (weights) that could get too large.\n",
    "\n",
    "But there are now a few different flavors besides L1 and L2 regularization. (Note that L1 regularization is not common in the context of  neural networks.)"
   ]
  },
  {
   "cell_type": "code",
   "execution_count": 24,
   "metadata": {},
   "outputs": [],
   "source": [
    "import numpy as np\n",
    "import pandas as pd\n",
    "from sklearn.model_selection import train_test_split\n",
    "from sklearn.preprocessing import StandardScaler\n",
    "from keras.models import Sequential\n",
    "from keras.layers import Dense\n",
    "from keras.utils import to_categorical\n",
    "from matplotlib import pyplot as plt\n",
    "%matplotlib inline"
   ]
  },
  {
   "cell_type": "code",
   "execution_count": 25,
   "metadata": {},
   "outputs": [
    {
     "data": {
      "text/html": [
       "<div>\n",
       "<style scoped>\n",
       "    .dataframe tbody tr th:only-of-type {\n",
       "        vertical-align: middle;\n",
       "    }\n",
       "\n",
       "    .dataframe tbody tr th {\n",
       "        vertical-align: top;\n",
       "    }\n",
       "\n",
       "    .dataframe thead th {\n",
       "        text-align: right;\n",
       "    }\n",
       "</style>\n",
       "<table border=\"1\" class=\"dataframe\">\n",
       "  <thead>\n",
       "    <tr style=\"text-align: right;\">\n",
       "      <th></th>\n",
       "      <th>fixed acidity</th>\n",
       "      <th>volatile acidity</th>\n",
       "      <th>citric acid</th>\n",
       "      <th>residual sugar</th>\n",
       "      <th>chlorides</th>\n",
       "      <th>free sulfur dioxide</th>\n",
       "      <th>total sulfur dioxide</th>\n",
       "      <th>density</th>\n",
       "      <th>pH</th>\n",
       "      <th>sulphates</th>\n",
       "      <th>alcohol</th>\n",
       "      <th>quality</th>\n",
       "      <th>red_wine</th>\n",
       "    </tr>\n",
       "  </thead>\n",
       "  <tbody>\n",
       "    <tr>\n",
       "      <th>0</th>\n",
       "      <td>7.4</td>\n",
       "      <td>0.70</td>\n",
       "      <td>0.00</td>\n",
       "      <td>1.9</td>\n",
       "      <td>0.076</td>\n",
       "      <td>11.0</td>\n",
       "      <td>34.0</td>\n",
       "      <td>0.9978</td>\n",
       "      <td>3.51</td>\n",
       "      <td>0.56</td>\n",
       "      <td>9.4</td>\n",
       "      <td>5</td>\n",
       "      <td>1</td>\n",
       "    </tr>\n",
       "    <tr>\n",
       "      <th>1</th>\n",
       "      <td>7.8</td>\n",
       "      <td>0.88</td>\n",
       "      <td>0.00</td>\n",
       "      <td>2.6</td>\n",
       "      <td>0.098</td>\n",
       "      <td>25.0</td>\n",
       "      <td>67.0</td>\n",
       "      <td>0.9968</td>\n",
       "      <td>3.20</td>\n",
       "      <td>0.68</td>\n",
       "      <td>9.8</td>\n",
       "      <td>5</td>\n",
       "      <td>1</td>\n",
       "    </tr>\n",
       "    <tr>\n",
       "      <th>2</th>\n",
       "      <td>7.8</td>\n",
       "      <td>0.76</td>\n",
       "      <td>0.04</td>\n",
       "      <td>2.3</td>\n",
       "      <td>0.092</td>\n",
       "      <td>15.0</td>\n",
       "      <td>54.0</td>\n",
       "      <td>0.9970</td>\n",
       "      <td>3.26</td>\n",
       "      <td>0.65</td>\n",
       "      <td>9.8</td>\n",
       "      <td>5</td>\n",
       "      <td>1</td>\n",
       "    </tr>\n",
       "    <tr>\n",
       "      <th>3</th>\n",
       "      <td>11.2</td>\n",
       "      <td>0.28</td>\n",
       "      <td>0.56</td>\n",
       "      <td>1.9</td>\n",
       "      <td>0.075</td>\n",
       "      <td>17.0</td>\n",
       "      <td>60.0</td>\n",
       "      <td>0.9980</td>\n",
       "      <td>3.16</td>\n",
       "      <td>0.58</td>\n",
       "      <td>9.8</td>\n",
       "      <td>6</td>\n",
       "      <td>1</td>\n",
       "    </tr>\n",
       "    <tr>\n",
       "      <th>4</th>\n",
       "      <td>7.4</td>\n",
       "      <td>0.70</td>\n",
       "      <td>0.00</td>\n",
       "      <td>1.9</td>\n",
       "      <td>0.076</td>\n",
       "      <td>11.0</td>\n",
       "      <td>34.0</td>\n",
       "      <td>0.9978</td>\n",
       "      <td>3.51</td>\n",
       "      <td>0.56</td>\n",
       "      <td>9.4</td>\n",
       "      <td>5</td>\n",
       "      <td>1</td>\n",
       "    </tr>\n",
       "  </tbody>\n",
       "</table>\n",
       "</div>"
      ],
      "text/plain": [
       "   fixed acidity  volatile acidity  citric acid  residual sugar  chlorides  \\\n",
       "0            7.4              0.70         0.00             1.9      0.076   \n",
       "1            7.8              0.88         0.00             2.6      0.098   \n",
       "2            7.8              0.76         0.04             2.3      0.092   \n",
       "3           11.2              0.28         0.56             1.9      0.075   \n",
       "4            7.4              0.70         0.00             1.9      0.076   \n",
       "\n",
       "   free sulfur dioxide  total sulfur dioxide  density    pH  sulphates  \\\n",
       "0                 11.0                  34.0   0.9978  3.51       0.56   \n",
       "1                 25.0                  67.0   0.9968  3.20       0.68   \n",
       "2                 15.0                  54.0   0.9970  3.26       0.65   \n",
       "3                 17.0                  60.0   0.9980  3.16       0.58   \n",
       "4                 11.0                  34.0   0.9978  3.51       0.56   \n",
       "\n",
       "   alcohol  quality  red_wine  \n",
       "0      9.4        5         1  \n",
       "1      9.8        5         1  \n",
       "2      9.8        5         1  \n",
       "3      9.8        6         1  \n",
       "4      9.4        5         1  "
      ]
     },
     "execution_count": 25,
     "metadata": {},
     "output_type": "execute_result"
    }
   ],
   "source": [
    "wine = pd.read_csv('wine.csv')\n",
    "wine.head()"
   ]
  },
  {
   "cell_type": "code",
   "execution_count": 26,
   "metadata": {},
   "outputs": [],
   "source": [
    "X = wine.drop('quality', axis=1)\n",
    "y = wine.quality"
   ]
  },
  {
   "cell_type": "code",
   "execution_count": 27,
   "metadata": {},
   "outputs": [
    {
     "data": {
      "text/plain": [
       "6    2836\n",
       "5    2138\n",
       "7    1079\n",
       "4     216\n",
       "8     193\n",
       "3      30\n",
       "9       5\n",
       "Name: quality, dtype: int64"
      ]
     },
     "execution_count": 27,
     "metadata": {},
     "output_type": "execute_result"
    }
   ],
   "source": [
    "wine['quality'].value_counts()"
   ]
  },
  {
   "cell_type": "code",
   "execution_count": 28,
   "metadata": {
    "scrolled": true
   },
   "outputs": [],
   "source": [
    "X_train, X_test, y_train, y_test = train_test_split(X, y,\n",
    "                                                    random_state=11, stratify=y)\n",
    "ss = StandardScaler()\n",
    "X_train_s = ss.fit_transform(X_train).astype(np.int32)\n",
    "X_test_s = ss.transform(X_test).astype(np.int32)"
   ]
  },
  {
   "cell_type": "code",
   "execution_count": 29,
   "metadata": {},
   "outputs": [],
   "source": [
    "y_train_c = to_categorical(y_train).astype(np.int32)\n",
    "y_test_c = to_categorical(y_test).astype(np.int32)"
   ]
  },
  {
   "cell_type": "code",
   "execution_count": 30,
   "metadata": {},
   "outputs": [],
   "source": [
    "model = Sequential()\n",
    "\n",
    "n_input = X_train_s.shape[1]\n",
    "\n",
    "model.add(Dense(n_input, activation='relu'))\n",
    "model.add(Dense(10, activation='softmax'))"
   ]
  },
  {
   "cell_type": "code",
   "execution_count": 31,
   "metadata": {},
   "outputs": [],
   "source": [
    "model.compile(optimizer='adam', loss='categorical_crossentropy', metrics=['accuracy'])"
   ]
  },
  {
   "cell_type": "markdown",
   "metadata": {},
   "source": [
    "By the way, here is a helpful blog post that goes carefully through a list of similarly-named different activation functions and loss functions: https://gombru.github.io/2018/05/23/cross_entropy_loss/"
   ]
  },
  {
   "cell_type": "code",
   "execution_count": 32,
   "metadata": {},
   "outputs": [
    {
     "name": "stdout",
     "output_type": "stream",
     "text": [
      "Train on 4872 samples, validate on 1625 samples\n",
      "Epoch 1/30\n",
      "4872/4872 [==============================] - 1s 104us/step - loss: 1.8987 - acc: 0.3255 - val_loss: 1.5852 - val_acc: 0.4369\n",
      "Epoch 2/30\n",
      "4872/4872 [==============================] - 0s 24us/step - loss: 1.4616 - acc: 0.4454 - val_loss: 1.3551 - val_acc: 0.4597\n",
      "Epoch 3/30\n",
      "4872/4872 [==============================] - 0s 23us/step - loss: 1.3124 - acc: 0.4725 - val_loss: 1.2750 - val_acc: 0.4788\n",
      "Epoch 4/30\n",
      "4872/4872 [==============================] - 0s 25us/step - loss: 1.2472 - acc: 0.4883 - val_loss: 1.2328 - val_acc: 0.4843\n",
      "Epoch 5/30\n",
      "4872/4872 [==============================] - 0s 25us/step - loss: 1.2067 - acc: 0.4967 - val_loss: 1.2053 - val_acc: 0.4917\n",
      "Epoch 6/30\n",
      "4872/4872 [==============================] - 0s 25us/step - loss: 1.1804 - acc: 0.5101 - val_loss: 1.1878 - val_acc: 0.5015\n",
      "Epoch 7/30\n",
      "4872/4872 [==============================] - 0s 25us/step - loss: 1.1633 - acc: 0.5082 - val_loss: 1.1775 - val_acc: 0.5034\n",
      "Epoch 8/30\n",
      "4872/4872 [==============================] - 0s 27us/step - loss: 1.1514 - acc: 0.5076 - val_loss: 1.1685 - val_acc: 0.5034\n",
      "Epoch 9/30\n",
      "4872/4872 [==============================] - 0s 24us/step - loss: 1.1422 - acc: 0.5094 - val_loss: 1.1635 - val_acc: 0.5058\n",
      "Epoch 10/30\n",
      "4872/4872 [==============================] - 0s 25us/step - loss: 1.1359 - acc: 0.5111 - val_loss: 1.1598 - val_acc: 0.5083\n",
      "Epoch 11/30\n",
      "4872/4872 [==============================] - 0s 26us/step - loss: 1.1307 - acc: 0.5129 - val_loss: 1.1568 - val_acc: 0.5089\n",
      "Epoch 12/30\n",
      "4872/4872 [==============================] - 0s 25us/step - loss: 1.1260 - acc: 0.5105 - val_loss: 1.1540 - val_acc: 0.5102\n",
      "Epoch 13/30\n",
      "4872/4872 [==============================] - 0s 24us/step - loss: 1.1219 - acc: 0.5146 - val_loss: 1.1528 - val_acc: 0.5108\n",
      "Epoch 14/30\n",
      "4872/4872 [==============================] - 0s 25us/step - loss: 1.1191 - acc: 0.5135 - val_loss: 1.1506 - val_acc: 0.5108\n",
      "Epoch 15/30\n",
      "4872/4872 [==============================] - 0s 27us/step - loss: 1.1153 - acc: 0.5150 - val_loss: 1.1490 - val_acc: 0.5120\n",
      "Epoch 16/30\n",
      "4872/4872 [==============================] - 0s 28us/step - loss: 1.1130 - acc: 0.5160 - val_loss: 1.1473 - val_acc: 0.5095\n",
      "Epoch 17/30\n",
      "4872/4872 [==============================] - 0s 25us/step - loss: 1.1105 - acc: 0.5170 - val_loss: 1.1461 - val_acc: 0.5114\n",
      "Epoch 18/30\n",
      "4872/4872 [==============================] - 0s 26us/step - loss: 1.1078 - acc: 0.5166 - val_loss: 1.1447 - val_acc: 0.5052\n",
      "Epoch 19/30\n",
      "4872/4872 [==============================] - 0s 26us/step - loss: 1.1060 - acc: 0.5156 - val_loss: 1.1437 - val_acc: 0.5132\n",
      "Epoch 20/30\n",
      "4872/4872 [==============================] - 0s 26us/step - loss: 1.1036 - acc: 0.5146 - val_loss: 1.1427 - val_acc: 0.5120\n",
      "Epoch 21/30\n",
      "4872/4872 [==============================] - 0s 26us/step - loss: 1.1017 - acc: 0.5170 - val_loss: 1.1435 - val_acc: 0.5126\n",
      "Epoch 22/30\n",
      "4872/4872 [==============================] - 0s 29us/step - loss: 1.1006 - acc: 0.5183 - val_loss: 1.1433 - val_acc: 0.5095\n",
      "Epoch 23/30\n",
      "4872/4872 [==============================] - 0s 28us/step - loss: 1.0987 - acc: 0.5187 - val_loss: 1.1408 - val_acc: 0.5083\n",
      "Epoch 24/30\n",
      "4872/4872 [==============================] - 0s 27us/step - loss: 1.0974 - acc: 0.5203 - val_loss: 1.1427 - val_acc: 0.5089\n",
      "Epoch 25/30\n",
      "4872/4872 [==============================] - 0s 30us/step - loss: 1.0965 - acc: 0.5156 - val_loss: 1.1406 - val_acc: 0.5126\n",
      "Epoch 26/30\n",
      "4872/4872 [==============================] - 0s 26us/step - loss: 1.0945 - acc: 0.5195 - val_loss: 1.1402 - val_acc: 0.5108\n",
      "Epoch 27/30\n",
      "4872/4872 [==============================] - 0s 26us/step - loss: 1.0932 - acc: 0.5218 - val_loss: 1.1403 - val_acc: 0.5046\n",
      "Epoch 28/30\n",
      "4872/4872 [==============================] - 0s 31us/step - loss: 1.0920 - acc: 0.5220 - val_loss: 1.1399 - val_acc: 0.5095\n",
      "Epoch 29/30\n",
      "4872/4872 [==============================] - 0s 42us/step - loss: 1.0908 - acc: 0.5244 - val_loss: 1.1408 - val_acc: 0.5108\n",
      "Epoch 30/30\n",
      "4872/4872 [==============================] - 0s 24us/step - loss: 1.0900 - acc: 0.5213 - val_loss: 1.1399 - val_acc: 0.5077\n"
     ]
    }
   ],
   "source": [
    "history = model.fit(X_train_s, y_train_c, validation_data=(X_test_s, y_test_c),\n",
    "                   epochs=30, batch_size=None)"
   ]
  },
  {
   "cell_type": "code",
   "execution_count": 33,
   "metadata": {},
   "outputs": [
    {
     "name": "stdout",
     "output_type": "stream",
     "text": [
      "[array([[-0.14363733,  0.3974387 , -0.12620385,  0.15893246, -0.23006316,\n",
      "        -0.3813938 , -0.14877374, -0.03906774,  0.09247733,  0.06058184,\n",
      "        -0.01787888, -0.15392202],\n",
      "       [-0.18563023,  0.32336417, -0.10309023, -0.1264321 ,  0.7054024 ,\n",
      "        -0.6795623 , -0.12108346, -0.12921049, -0.540397  ,  0.11866748,\n",
      "         0.64654857, -0.39910945],\n",
      "       [ 0.5535992 , -0.5425511 , -0.34652007,  0.14908409, -0.25600818,\n",
      "         0.54160076,  0.1191568 ,  0.5298681 , -0.09526905,  0.24216197,\n",
      "        -0.49799737, -0.19283399],\n",
      "       [ 0.34998974,  0.25052074, -1.2822136 , -0.06976854,  0.07552943,\n",
      "         0.17465995, -0.22794963, -0.34945056,  0.49444067,  0.27289176,\n",
      "        -0.69866365, -0.08364519],\n",
      "       [-0.2280398 ,  0.10836743,  0.10764059, -0.14295608,  0.15216477,\n",
      "         0.02890367,  0.07918039,  0.07855062, -0.10239424,  0.19845529,\n",
      "        -0.3486913 , -0.10345978],\n",
      "       [-0.1344088 , -0.28289574, -0.1270056 ,  0.19416857,  0.5549867 ,\n",
      "        -0.17009096,  0.49233806, -0.3379299 ,  0.30748844,  0.29702154,\n",
      "         0.7198114 ,  0.22708674],\n",
      "       [-0.03250397, -0.25400862,  0.20056188, -0.16842785,  0.26431638,\n",
      "         0.20476937,  0.09558347,  0.3797052 , -0.6894361 ,  0.67174864,\n",
      "         0.05937865, -0.7208551 ],\n",
      "       [-0.11710801, -0.85441446,  0.3160524 , -0.81420803,  0.24135675,\n",
      "         0.04243768, -1.0018317 ,  0.13958447,  0.0107809 , -0.5869902 ,\n",
      "        -0.3124168 ,  0.3913235 ],\n",
      "       [ 0.14556244, -0.15698385, -0.23145121,  0.3874181 , -0.03739946,\n",
      "        -0.03455418,  0.12389109,  0.74240005,  0.23728006, -0.48566344,\n",
      "         0.37182215, -0.0606059 ],\n",
      "       [-0.18742181,  0.40722257, -0.22542726,  0.2206659 , -0.16361773,\n",
      "        -0.5952007 , -0.07804625,  0.12437741,  0.5318077 ,  0.2553601 ,\n",
      "        -0.00664006,  0.2725619 ],\n",
      "       [-0.24246496,  0.17417493, -0.1910428 ,  1.0003054 , -0.34699848,\n",
      "         0.20395291,  0.5134874 ,  0.01755738,  0.7087643 , -0.52063483,\n",
      "        -0.03432469, -0.20148258],\n",
      "       [-0.05964804,  0.36818248,  0.46104634,  0.06462889,  1.0482805 ,\n",
      "        -0.44720453,  0.4377337 ,  0.22590612,  0.36039126,  0.6772896 ,\n",
      "        -0.21972285, -0.23543948]], dtype=float32), array([ 0.00425735,  0.6241966 ,  0.4348662 ,  0.10430393,  0.5078614 ,\n",
      "        0.53201246,  0.50225097,  0.9827328 ,  0.7425477 ,  0.8890289 ,\n",
      "       -0.11262179,  0.6068043 ], dtype=float32)]\n",
      "[array([[-0.26480332, -0.3498894 , -0.46231773,  0.07080015,  0.4098792 ,\n",
      "         0.76923215, -0.2565614 , -0.02651304,  0.04826774, -0.5107326 ],\n",
      "       [-0.51420087, -0.44319966, -1.0415057 , -0.07447761,  0.5430632 ,\n",
      "         0.33214697,  0.50701416,  0.39523405, -0.31161958, -0.32766   ],\n",
      "       [-0.4176302 , -0.92064446, -1.3594539 , -0.4016583 ,  0.32946533,\n",
      "         0.77302295, -0.04319121, -0.57303613, -0.3980252 , -1.2443078 ],\n",
      "       [-0.46546394,  0.02485612, -0.44301507, -0.2420458 ,  0.19584525,\n",
      "        -0.7774699 , -0.35443118,  0.11261802,  0.8005571 ,  0.24341251],\n",
      "       [-0.33193707, -1.2075566 , -0.30287698,  0.20250371, -0.07900279,\n",
      "         0.43380812,  0.38158077, -0.3485777 , -0.31891045, -0.9647154 ],\n",
      "       [-1.2865921 , -1.2250559 , -0.6661113 , -0.9124712 , -0.25077435,\n",
      "        -0.27942955,  0.4977739 ,  0.13491163, -0.09309027, -0.45319435],\n",
      "       [-0.48601437, -0.6208127 , -0.87747085, -0.07721533, -0.7313244 ,\n",
      "         0.07510773,  0.58446944,  0.51415414,  0.26590914,  0.18220578],\n",
      "       [-1.4525385 , -0.60659397, -1.2107834 , -0.35934418,  0.419544  ,\n",
      "         0.4898287 ,  0.3270396 ,  0.03615259, -0.38933423, -0.5979077 ],\n",
      "       [-0.7790148 , -0.44409066, -0.25533676, -0.12832636, -0.61078   ,\n",
      "         0.3716786 ,  0.5567749 ,  0.76960623,  0.60674316, -0.06808087],\n",
      "       [-1.0795071 , -1.2305917 , -1.2536417 , -0.17085297, -0.01451707,\n",
      "         0.44308877,  0.27929196,  0.06893487, -0.09924257, -0.4903172 ],\n",
      "       [-0.37059468, -0.2575252 ,  0.06175417,  0.89919055,  0.5149516 ,\n",
      "        -0.20796204, -0.54057544, -0.21363707,  0.00388852, -0.05645005],\n",
      "       [-0.7006091 , -1.4081062 , -1.0029778 , -0.85085696, -0.36023778,\n",
      "         0.07015683,  0.60350144,  0.5962459 ,  0.26293132, -0.9079323 ]],\n",
      "      dtype=float32), array([-0.48920098, -0.436649  , -0.47725686, -0.504457  ,  0.15398188,\n",
      "        0.36469194,  0.19369115,  0.06464119, -0.29792225, -0.5173954 ],\n",
      "      dtype=float32)]\n"
     ]
    }
   ],
   "source": [
    "for layer in model.layers:\n",
    "    print(layer.get_weights())"
   ]
  },
  {
   "cell_type": "code",
   "execution_count": 11,
   "metadata": {},
   "outputs": [
    {
     "data": {
      "image/png": "[encoded data removed]",
      "text/plain": [
       "<Figure size 432x288 with 1 Axes>"
      ]
     },
     "metadata": {
      "needs_background": "light"
     },
     "output_type": "display_data"
    }
   ],
   "source": [
    "plt.plot(history.history['loss'], label='Train loss')\n",
    "plt.plot(history.history['val_loss'], label='Test loss')\n",
    "plt.legend();"
   ]
  },
  {
   "cell_type": "markdown",
   "metadata": {},
   "source": [
    "## Adding Regularization"
   ]
  },
  {
   "cell_type": "markdown",
   "metadata": {},
   "source": [
    "Here's a helpful review article on regularization techniques: https://towardsdatascience.com/regularization-in-machine-learning-connecting-the-dots-c6e030bfaddd"
   ]
  },
  {
   "cell_type": "code",
   "execution_count": 12,
   "metadata": {},
   "outputs": [
    {
     "name": "stdout",
     "output_type": "stream",
     "text": [
      "Train on 4872 samples, validate on 1625 samples\n",
      "Epoch 1/42\n",
      "4872/4872 [==============================] - 0s 62us/step - loss: 2.2778 - acc: 0.3007 - val_loss: 1.9777 - val_acc: 0.4055\n",
      "Epoch 2/42\n",
      "4872/4872 [==============================] - 0s 25us/step - loss: 1.7765 - acc: 0.4300 - val_loss: 1.6463 - val_acc: 0.4209\n",
      "Epoch 3/42\n",
      "4872/4872 [==============================] - 0s 22us/step - loss: 1.5455 - acc: 0.4440 - val_loss: 1.4982 - val_acc: 0.4437\n",
      "Epoch 4/42\n",
      "4872/4872 [==============================] - 0s 21us/step - loss: 1.4338 - acc: 0.4678 - val_loss: 1.4196 - val_acc: 0.4628\n",
      "Epoch 5/42\n",
      "4872/4872 [==============================] - 0s 21us/step - loss: 1.3696 - acc: 0.4805 - val_loss: 1.3702 - val_acc: 0.4843\n",
      "Epoch 6/42\n",
      "4872/4872 [==============================] - 0s 27us/step - loss: 1.3299 - acc: 0.4904 - val_loss: 1.3377 - val_acc: 0.4843\n",
      "Epoch 7/42\n",
      "4872/4872 [==============================] - 0s 24us/step - loss: 1.3028 - acc: 0.4875 - val_loss: 1.3172 - val_acc: 0.4892\n",
      "Epoch 8/42\n",
      "4872/4872 [==============================] - 0s 22us/step - loss: 1.2848 - acc: 0.4930 - val_loss: 1.3021 - val_acc: 0.4892\n",
      "Epoch 9/42\n",
      "4872/4872 [==============================] - 0s 22us/step - loss: 1.2710 - acc: 0.4951 - val_loss: 1.2920 - val_acc: 0.4923\n",
      "Epoch 10/42\n",
      "4872/4872 [==============================] - 0s 22us/step - loss: 1.2620 - acc: 0.4947 - val_loss: 1.2826 - val_acc: 0.4942\n",
      "Epoch 11/42\n",
      "4872/4872 [==============================] - 0s 21us/step - loss: 1.2540 - acc: 0.4924 - val_loss: 1.2754 - val_acc: 0.4954\n",
      "Epoch 12/42\n",
      "4872/4872 [==============================] - 0s 22us/step - loss: 1.2477 - acc: 0.4988 - val_loss: 1.2719 - val_acc: 0.4892\n",
      "Epoch 13/42\n",
      "4872/4872 [==============================] - 0s 22us/step - loss: 1.2427 - acc: 0.4986 - val_loss: 1.2671 - val_acc: 0.4935\n",
      "Epoch 14/42\n",
      "4872/4872 [==============================] - 0s 23us/step - loss: 1.2386 - acc: 0.4963 - val_loss: 1.2614 - val_acc: 0.4935\n",
      "Epoch 15/42\n",
      "4872/4872 [==============================] - 0s 24us/step - loss: 1.2354 - acc: 0.4967 - val_loss: 1.2580 - val_acc: 0.4942\n",
      "Epoch 16/42\n",
      "4872/4872 [==============================] - 0s 24us/step - loss: 1.2320 - acc: 0.4930 - val_loss: 1.2545 - val_acc: 0.4917\n",
      "Epoch 17/42\n",
      "4872/4872 [==============================] - 0s 22us/step - loss: 1.2291 - acc: 0.4930 - val_loss: 1.2520 - val_acc: 0.4898\n",
      "Epoch 18/42\n",
      "4872/4872 [==============================] - 0s 22us/step - loss: 1.2268 - acc: 0.4953 - val_loss: 1.2501 - val_acc: 0.4923\n",
      "Epoch 19/42\n",
      "4872/4872 [==============================] - 0s 21us/step - loss: 1.2239 - acc: 0.4979 - val_loss: 1.2505 - val_acc: 0.4929\n",
      "Epoch 20/42\n",
      "4872/4872 [==============================] - 0s 22us/step - loss: 1.2226 - acc: 0.4996 - val_loss: 1.2477 - val_acc: 0.4892\n",
      "Epoch 21/42\n",
      "4872/4872 [==============================] - 0s 22us/step - loss: 1.2213 - acc: 0.4965 - val_loss: 1.2438 - val_acc: 0.4929\n",
      "Epoch 22/42\n",
      "4872/4872 [==============================] - 0s 22us/step - loss: 1.2191 - acc: 0.4977 - val_loss: 1.2426 - val_acc: 0.4948\n",
      "Epoch 23/42\n",
      "4872/4872 [==============================] - 0s 22us/step - loss: 1.2176 - acc: 0.4965 - val_loss: 1.2412 - val_acc: 0.4923\n",
      "Epoch 24/42\n",
      "4872/4872 [==============================] - 0s 25us/step - loss: 1.2161 - acc: 0.4949 - val_loss: 1.2399 - val_acc: 0.4892\n",
      "Epoch 25/42\n",
      "4872/4872 [==============================] - 0s 22us/step - loss: 1.2148 - acc: 0.4961 - val_loss: 1.2386 - val_acc: 0.4923\n",
      "Epoch 26/42\n",
      "4872/4872 [==============================] - 0s 22us/step - loss: 1.2139 - acc: 0.4959 - val_loss: 1.2362 - val_acc: 0.4929\n",
      "Epoch 27/42\n",
      "4872/4872 [==============================] - 0s 23us/step - loss: 1.2127 - acc: 0.4959 - val_loss: 1.2362 - val_acc: 0.4898\n",
      "Epoch 28/42\n",
      "4872/4872 [==============================] - 0s 22us/step - loss: 1.2113 - acc: 0.4971 - val_loss: 1.2362 - val_acc: 0.4997\n",
      "Epoch 29/42\n",
      "4872/4872 [==============================] - 0s 22us/step - loss: 1.2104 - acc: 0.4940 - val_loss: 1.2333 - val_acc: 0.4942\n",
      "Epoch 30/42\n",
      "4872/4872 [==============================] - 0s 22us/step - loss: 1.2094 - acc: 0.4979 - val_loss: 1.2321 - val_acc: 0.4954\n",
      "Epoch 31/42\n",
      "4872/4872 [==============================] - 0s 22us/step - loss: 1.2083 - acc: 0.4984 - val_loss: 1.2317 - val_acc: 0.4942\n",
      "Epoch 32/42\n",
      "4872/4872 [==============================] - 0s 23us/step - loss: 1.2080 - acc: 0.4979 - val_loss: 1.2302 - val_acc: 0.4929\n",
      "Epoch 33/42\n",
      "4872/4872 [==============================] - 0s 23us/step - loss: 1.2070 - acc: 0.4945 - val_loss: 1.2300 - val_acc: 0.4923\n",
      "Epoch 34/42\n",
      "4872/4872 [==============================] - 0s 22us/step - loss: 1.2060 - acc: 0.4934 - val_loss: 1.2289 - val_acc: 0.4929\n",
      "Epoch 35/42\n",
      "4872/4872 [==============================] - 0s 24us/step - loss: 1.2052 - acc: 0.4945 - val_loss: 1.2290 - val_acc: 0.4917\n",
      "Epoch 36/42\n",
      "4872/4872 [==============================] - 0s 25us/step - loss: 1.2045 - acc: 0.4979 - val_loss: 1.2265 - val_acc: 0.4917\n",
      "Epoch 37/42\n",
      "4872/4872 [==============================] - 0s 23us/step - loss: 1.2046 - acc: 0.4963 - val_loss: 1.2261 - val_acc: 0.4905\n",
      "Epoch 38/42\n",
      "4872/4872 [==============================] - 0s 21us/step - loss: 1.2037 - acc: 0.4959 - val_loss: 1.2273 - val_acc: 0.4978\n",
      "Epoch 39/42\n",
      "4872/4872 [==============================] - 0s 21us/step - loss: 1.2030 - acc: 0.4953 - val_loss: 1.2251 - val_acc: 0.4917\n",
      "Epoch 40/42\n",
      "4872/4872 [==============================] - 0s 21us/step - loss: 1.2019 - acc: 0.4967 - val_loss: 1.2248 - val_acc: 0.4892\n",
      "Epoch 41/42\n",
      "4872/4872 [==============================] - 0s 23us/step - loss: 1.2014 - acc: 0.4957 - val_loss: 1.2252 - val_acc: 0.4886\n",
      "Epoch 42/42\n",
      "4872/4872 [==============================] - 0s 25us/step - loss: 1.2008 - acc: 0.4949 - val_loss: 1.2232 - val_acc: 0.4911\n"
     ]
    }
   ],
   "source": [
    "from keras import regularizers\n",
    "\n",
    "model_r = Sequential()\n",
    "\n",
    "n_input = X_train_s.shape[1]\n",
    "n_hidden = n_input\n",
    "\n",
    "model_r.add(Dense(n_hidden, input_dim=n_input, activation='relu',\n",
    "                 kernel_regularizer=regularizers.l2(0.01)))\n",
    "model_r.add(Dense(10, activation='softmax',\n",
    "                 kernel_regularizer=regularizers.l2(0.01)))\n",
    "\n",
    "model_r.compile(loss='categorical_crossentropy', optimizer='adam', metrics=['acc'])\n",
    "\n",
    "history_r = model_r.fit(X_train_s, y_train_c, validation_data=(X_test_s, y_test_c),\n",
    "                       epochs=42, batch_size=None)"
   ]
  },
  {
   "cell_type": "code",
   "execution_count": 13,
   "metadata": {},
   "outputs": [
    {
     "data": {
      "image/png": "[encoded data removed]",
      "text/plain": [
       "<Figure size 432x288 with 1 Axes>"
      ]
     },
     "metadata": {
      "needs_background": "light"
     },
     "output_type": "display_data"
    }
   ],
   "source": [
    "plt.plot(history_r.history['loss'], label='Training loss')\n",
    "plt.plot(history_r.history['val_loss'], label='Testing loss')\n",
    "plt.legend();"
   ]
  },
  {
   "cell_type": "code",
   "execution_count": 14,
   "metadata": {},
   "outputs": [
    {
     "data": {
      "text/plain": [
       "array([[0.  , 0.  , 0.  , 0.01, 0.06, 0.34, 0.41, 0.14, 0.03, 0.  ],\n",
       "       [0.  , 0.  , 0.  , 0.01, 0.04, 0.33, 0.46, 0.14, 0.03, 0.  ],\n",
       "       [0.  , 0.  , 0.  , 0.01, 0.08, 0.66, 0.22, 0.03, 0.01, 0.  ],\n",
       "       [0.  , 0.  , 0.  , 0.01, 0.03, 0.3 , 0.47, 0.15, 0.03, 0.  ],\n",
       "       [0.  , 0.  , 0.  , 0.01, 0.07, 0.6 , 0.27, 0.04, 0.01, 0.  ]],\n",
       "      dtype=float32)"
      ]
     },
     "execution_count": 14,
     "metadata": {},
     "output_type": "execute_result"
    }
   ],
   "source": [
    "model_r.predict(X_test_s[:5]).round(2)"
   ]
  },
  {
   "cell_type": "code",
   "execution_count": 15,
   "metadata": {},
   "outputs": [
    {
     "data": {
      "text/plain": [
       "array([[0, 0, 0, 0, 0, 1, 0, 0, 0, 0],\n",
       "       [0, 0, 0, 0, 0, 1, 0, 0, 0, 0],\n",
       "       [0, 0, 0, 0, 0, 1, 0, 0, 0, 0],\n",
       "       [0, 0, 0, 0, 0, 1, 0, 0, 0, 0],\n",
       "       [0, 0, 0, 0, 0, 1, 0, 0, 0, 0]], dtype=int32)"
      ]
     },
     "execution_count": 15,
     "metadata": {},
     "output_type": "execute_result"
    }
   ],
   "source": [
    "y_test_c[:5]"
   ]
  },
  {
   "cell_type": "markdown",
   "metadata": {},
   "source": [
    "### Dropout"
   ]
  },
  {
   "cell_type": "markdown",
   "metadata": {},
   "source": [
    "Here's a new regularization idea: Turn some neurons off during training. We'll assign probabilities of 'dropout' and then let fate decide.\n",
    "\n",
    "$\\rightarrow$ Why is this a good idea? *Is* it a good idea?\n",
    "\n",
    "Was this sort of regularization available to us before? Why (not)?"
   ]
  },
  {
   "cell_type": "code",
   "execution_count": 18,
   "metadata": {},
   "outputs": [
    {
     "name": "stdout",
     "output_type": "stream",
     "text": [
      "Train on 4872 samples, validate on 1625 samples\n",
      "Epoch 1/42\n",
      "4872/4872 [==============================] - 0s 90us/step - loss: 2.2299 - acc: 0.2874 - val_loss: 1.9377 - val_acc: 0.4271\n",
      "Epoch 2/42\n",
      "4872/4872 [==============================] - 0s 24us/step - loss: 1.7329 - acc: 0.4409 - val_loss: 1.5316 - val_acc: 0.4535\n",
      "Epoch 3/42\n",
      "4872/4872 [==============================] - 0s 23us/step - loss: 1.4544 - acc: 0.4532 - val_loss: 1.3464 - val_acc: 0.4708\n",
      "Epoch 4/42\n",
      "4872/4872 [==============================] - 0s 26us/step - loss: 1.3395 - acc: 0.4553 - val_loss: 1.2662 - val_acc: 0.4874\n",
      "Epoch 5/42\n",
      "4872/4872 [==============================] - 0s 23us/step - loss: 1.2704 - acc: 0.4797 - val_loss: 1.2229 - val_acc: 0.4905\n",
      "Epoch 6/42\n",
      "4872/4872 [==============================] - 0s 25us/step - loss: 1.2244 - acc: 0.4784 - val_loss: 1.1964 - val_acc: 0.4868\n",
      "Epoch 7/42\n",
      "4872/4872 [==============================] - 0s 24us/step - loss: 1.2078 - acc: 0.4817 - val_loss: 1.1802 - val_acc: 0.4917\n",
      "Epoch 8/42\n",
      "4872/4872 [==============================] - 0s 25us/step - loss: 1.1911 - acc: 0.4813 - val_loss: 1.1707 - val_acc: 0.4905\n",
      "Epoch 9/42\n",
      "4872/4872 [==============================] - 0s 24us/step - loss: 1.1753 - acc: 0.4871 - val_loss: 1.1650 - val_acc: 0.4954\n",
      "Epoch 10/42\n",
      "4872/4872 [==============================] - 0s 25us/step - loss: 1.1717 - acc: 0.4912 - val_loss: 1.1618 - val_acc: 0.4929\n",
      "Epoch 11/42\n",
      "4872/4872 [==============================] - 0s 24us/step - loss: 1.1692 - acc: 0.4852 - val_loss: 1.1585 - val_acc: 0.4997\n",
      "Epoch 12/42\n",
      "4872/4872 [==============================] - 0s 27us/step - loss: 1.1560 - acc: 0.4926 - val_loss: 1.1559 - val_acc: 0.5022\n",
      "Epoch 13/42\n",
      "4872/4872 [==============================] - 0s 25us/step - loss: 1.1576 - acc: 0.4885 - val_loss: 1.1556 - val_acc: 0.4991\n",
      "Epoch 14/42\n",
      "4872/4872 [==============================] - 0s 25us/step - loss: 1.1513 - acc: 0.5021 - val_loss: 1.1574 - val_acc: 0.4905\n",
      "Epoch 15/42\n",
      "4872/4872 [==============================] - 0s 24us/step - loss: 1.1498 - acc: 0.4965 - val_loss: 1.1536 - val_acc: 0.5040\n",
      "Epoch 16/42\n",
      "4872/4872 [==============================] - 0s 26us/step - loss: 1.1501 - acc: 0.5018 - val_loss: 1.1535 - val_acc: 0.5034\n",
      "Epoch 17/42\n",
      "4872/4872 [==============================] - 0s 50us/step - loss: 1.1478 - acc: 0.5068 - val_loss: 1.1537 - val_acc: 0.5028\n",
      "Epoch 18/42\n",
      "4872/4872 [==============================] - 0s 27us/step - loss: 1.1379 - acc: 0.5014 - val_loss: 1.1537 - val_acc: 0.5015\n",
      "Epoch 19/42\n",
      "4872/4872 [==============================] - 0s 25us/step - loss: 1.1402 - acc: 0.4977 - val_loss: 1.1531 - val_acc: 0.5046\n",
      "Epoch 20/42\n",
      "4872/4872 [==============================] - 0s 24us/step - loss: 1.1434 - acc: 0.4990 - val_loss: 1.1520 - val_acc: 0.5046\n",
      "Epoch 21/42\n",
      "4872/4872 [==============================] - 0s 24us/step - loss: 1.1355 - acc: 0.4994 - val_loss: 1.1515 - val_acc: 0.5009\n",
      "Epoch 22/42\n",
      "4872/4872 [==============================] - 0s 24us/step - loss: 1.1387 - acc: 0.4951 - val_loss: 1.1510 - val_acc: 0.5003\n",
      "Epoch 23/42\n",
      "4872/4872 [==============================] - 0s 26us/step - loss: 1.1332 - acc: 0.5053 - val_loss: 1.1511 - val_acc: 0.5015\n",
      "Epoch 24/42\n",
      "4872/4872 [==============================] - 0s 36us/step - loss: 1.1324 - acc: 0.4940 - val_loss: 1.1512 - val_acc: 0.5015\n",
      "Epoch 25/42\n",
      "4872/4872 [==============================] - 0s 26us/step - loss: 1.1285 - acc: 0.4998 - val_loss: 1.1505 - val_acc: 0.4985\n",
      "Epoch 26/42\n",
      "4872/4872 [==============================] - 0s 27us/step - loss: 1.1373 - acc: 0.4969 - val_loss: 1.1505 - val_acc: 0.5046\n",
      "Epoch 27/42\n",
      "4872/4872 [==============================] - 0s 23us/step - loss: 1.1317 - acc: 0.5012 - val_loss: 1.1514 - val_acc: 0.4985\n",
      "Epoch 28/42\n",
      "4872/4872 [==============================] - 0s 26us/step - loss: 1.1288 - acc: 0.4953 - val_loss: 1.1500 - val_acc: 0.5077\n",
      "Epoch 29/42\n",
      "4872/4872 [==============================] - 0s 25us/step - loss: 1.1283 - acc: 0.5037 - val_loss: 1.1506 - val_acc: 0.5028\n",
      "Epoch 30/42\n",
      "4872/4872 [==============================] - 0s 25us/step - loss: 1.1334 - acc: 0.5072 - val_loss: 1.1494 - val_acc: 0.5028\n",
      "Epoch 31/42\n",
      "4872/4872 [==============================] - 0s 26us/step - loss: 1.1284 - acc: 0.5029 - val_loss: 1.1485 - val_acc: 0.5028\n",
      "Epoch 32/42\n",
      "4872/4872 [==============================] - 0s 25us/step - loss: 1.1302 - acc: 0.5008 - val_loss: 1.1488 - val_acc: 0.5058\n",
      "Epoch 33/42\n",
      "4872/4872 [==============================] - 0s 26us/step - loss: 1.1248 - acc: 0.5076 - val_loss: 1.1474 - val_acc: 0.5046\n",
      "Epoch 34/42\n",
      "4872/4872 [==============================] - 0s 25us/step - loss: 1.1200 - acc: 0.5012 - val_loss: 1.1486 - val_acc: 0.5034\n",
      "Epoch 35/42\n",
      "4872/4872 [==============================] - 0s 25us/step - loss: 1.1283 - acc: 0.5049 - val_loss: 1.1472 - val_acc: 0.5003\n",
      "Epoch 36/42\n",
      "4872/4872 [==============================] - 0s 26us/step - loss: 1.1217 - acc: 0.5072 - val_loss: 1.1475 - val_acc: 0.5028\n",
      "Epoch 37/42\n",
      "4872/4872 [==============================] - 0s 24us/step - loss: 1.1186 - acc: 0.5043 - val_loss: 1.1473 - val_acc: 0.5040\n",
      "Epoch 38/42\n",
      "4872/4872 [==============================] - 0s 23us/step - loss: 1.1217 - acc: 0.5051 - val_loss: 1.1468 - val_acc: 0.5028\n",
      "Epoch 39/42\n",
      "4872/4872 [==============================] - 0s 24us/step - loss: 1.1189 - acc: 0.5023 - val_loss: 1.1472 - val_acc: 0.5058\n",
      "Epoch 40/42\n",
      "4872/4872 [==============================] - 0s 27us/step - loss: 1.1203 - acc: 0.5055 - val_loss: 1.1466 - val_acc: 0.5065\n",
      "Epoch 41/42\n",
      "4872/4872 [==============================] - 0s 25us/step - loss: 1.1219 - acc: 0.5031 - val_loss: 1.1462 - val_acc: 0.5040\n",
      "Epoch 42/42\n",
      "4872/4872 [==============================] - 0s 23us/step - loss: 1.1235 - acc: 0.4969 - val_loss: 1.1472 - val_acc: 0.5071\n"
     ]
    }
   ],
   "source": [
    "from keras.layers import Dropout\n",
    "\n",
    "model_d = Sequential()\n",
    "\n",
    "n_input = X_train_s.shape[1]\n",
    "n_hidden = n_input\n",
    "\n",
    "model_d.add(Dense(n_hidden, input_dim=n_input, activation='relu'))\n",
    "model_d.add(Dropout(rate=0.2))\n",
    "model_d.add(Dense(10, activation='softmax'))\n",
    "\n",
    "model_d.compile(loss='categorical_crossentropy', optimizer='adam', metrics=['acc'])\n",
    "\n",
    "history_d = model_d.fit(X_train_s, y_train_c, validation_data=(X_test_s, y_test_c),\n",
    "                       epochs=42, batch_size=None)"
   ]
  },
  {
   "cell_type": "code",
   "execution_count": 19,
   "metadata": {},
   "outputs": [
    {
     "data": {
      "image/png": "[encoded data removed]",
      "text/plain": [
       "<Figure size 432x288 with 1 Axes>"
      ]
     },
     "metadata": {
      "needs_background": "light"
     },
     "output_type": "display_data"
    }
   ],
   "source": [
    "plt.plot(history_d.history['loss'], label='Training loss')\n",
    "plt.plot(history_d.history['val_loss'], label='Testing loss')\n",
    "plt.legend();"
   ]
  },
  {
   "cell_type": "code",
   "execution_count": 20,
   "metadata": {},
   "outputs": [
    {
     "data": {
      "text/plain": [
       "(0.49692118226600984, 0.5070769227834848)"
      ]
     },
     "execution_count": 20,
     "metadata": {},
     "output_type": "execute_result"
    }
   ],
   "source": [
    "history_d.history['acc'][-1], history_d.history['val_acc'][-1]"
   ]
  },
  {
   "cell_type": "markdown",
   "metadata": {},
   "source": [
    "### Early Stopping"
   ]
  },
  {
   "cell_type": "markdown",
   "metadata": {},
   "source": [
    "Another idea is to try to terminate the training process early, even before some pre-specified number of epochs.\n",
    "\n",
    "$\\rightarrow$ Why is this a good idea? *Is* it a good idea?\n",
    "\n",
    "Was this sort of regularization available to us before? Why (not)?"
   ]
  },
  {
   "cell_type": "code",
   "execution_count": 21,
   "metadata": {},
   "outputs": [],
   "source": [
    "from keras.callbacks import EarlyStopping"
   ]
  },
  {
   "cell_type": "code",
   "execution_count": 22,
   "metadata": {},
   "outputs": [
    {
     "name": "stdout",
     "output_type": "stream",
     "text": [
      "Train on 4872 samples, validate on 1625 samples\n",
      "Epoch 1/20\n",
      "4872/4872 [==============================] - 0s 89us/step - loss: 2.1922 - acc: 0.2182 - val_loss: 1.8445 - val_acc: 0.3662\n",
      "Epoch 2/20\n",
      "4872/4872 [==============================] - 0s 24us/step - loss: 1.5913 - acc: 0.4130 - val_loss: 1.4144 - val_acc: 0.4332\n",
      "Epoch 3/20\n",
      "4872/4872 [==============================] - 0s 23us/step - loss: 1.3170 - acc: 0.4555 - val_loss: 1.2813 - val_acc: 0.4578\n",
      "Epoch 4/20\n",
      "4872/4872 [==============================] - 0s 24us/step - loss: 1.2286 - acc: 0.4797 - val_loss: 1.2335 - val_acc: 0.4677\n",
      "Epoch 5/20\n",
      "4872/4872 [==============================] - 0s 22us/step - loss: 1.1903 - acc: 0.4943 - val_loss: 1.2091 - val_acc: 0.4806\n",
      "Epoch 6/20\n",
      "4872/4872 [==============================] - 0s 23us/step - loss: 1.1699 - acc: 0.4961 - val_loss: 1.1956 - val_acc: 0.4849\n",
      "Epoch 7/20\n",
      "4872/4872 [==============================] - 0s 22us/step - loss: 1.1558 - acc: 0.4969 - val_loss: 1.1864 - val_acc: 0.4880\n",
      "Epoch 8/20\n",
      "4872/4872 [==============================] - 0s 22us/step - loss: 1.1459 - acc: 0.4969 - val_loss: 1.1779 - val_acc: 0.4942\n",
      "Epoch 9/20\n",
      "4872/4872 [==============================] - 0s 26us/step - loss: 1.1384 - acc: 0.4984 - val_loss: 1.1747 - val_acc: 0.4978\n",
      "Epoch 10/20\n",
      "4872/4872 [==============================] - 0s 30us/step - loss: 1.1330 - acc: 0.5002 - val_loss: 1.1705 - val_acc: 0.4954\n",
      "Epoch 11/20\n",
      "4872/4872 [==============================] - 0s 27us/step - loss: 1.1284 - acc: 0.5000 - val_loss: 1.1680 - val_acc: 0.4948\n",
      "Epoch 12/20\n",
      "4872/4872 [==============================] - 0s 23us/step - loss: 1.1248 - acc: 0.4992 - val_loss: 1.1651 - val_acc: 0.4985\n",
      "Epoch 13/20\n",
      "4872/4872 [==============================] - 0s 23us/step - loss: 1.1212 - acc: 0.5014 - val_loss: 1.1625 - val_acc: 0.4991\n",
      "Epoch 14/20\n",
      "4872/4872 [==============================] - 0s 23us/step - loss: 1.1184 - acc: 0.5029 - val_loss: 1.1609 - val_acc: 0.4978\n",
      "Epoch 15/20\n",
      "4872/4872 [==============================] - 0s 22us/step - loss: 1.1154 - acc: 0.5027 - val_loss: 1.1582 - val_acc: 0.5015\n",
      "Epoch 16/20\n",
      "4872/4872 [==============================] - 0s 23us/step - loss: 1.1132 - acc: 0.5057 - val_loss: 1.1583 - val_acc: 0.4985\n",
      "Epoch 00016: early stopping\n"
     ]
    }
   ],
   "source": [
    "from keras.callbacks import EarlyStopping\n",
    "\n",
    "model_es = Sequential()\n",
    "\n",
    "n_input = X_train_s.shape[1]\n",
    "n_hidden = n_input\n",
    "\n",
    "model_es.add(Dense(n_hidden, input_dim=n_input, activation='relu'))\n",
    "model_es.add(Dense(10, activation='softmax'))\n",
    "\n",
    "model_es.compile(loss='categorical_crossentropy', optimizer='adam', metrics=['acc'])\n",
    "\n",
    "early_stop = EarlyStopping(monitor='val_loss', min_delta=1e-08, patience=0, verbose=1,\n",
    "                           mode='auto')\n",
    "\n",
    "callbacks_list = [early_stop]\n",
    "\n",
    "history_es = model_es.fit(X_train_s, y_train_c, validation_data=(X_test_s, y_test_c),\n",
    "                         epochs=20, batch_size=None, callbacks=callbacks_list)"
   ]
  },
  {
   "cell_type": "code",
   "execution_count": 23,
   "metadata": {},
   "outputs": [
    {
     "data": {
      "image/png": "[encoded data removed]",
      "text/plain": [
       "<Figure size 432x288 with 1 Axes>"
      ]
     },
     "metadata": {
      "needs_background": "light"
     },
     "output_type": "display_data"
    }
   ],
   "source": [
    "plt.plot(history_es.history['loss'], label='Training loss')\n",
    "plt.plot(history_es.history['val_loss'], label='Testing loss')\n",
    "plt.legend();"
   ]
  },
  {
   "cell_type": "code",
   "execution_count": null,
   "metadata": {},
   "outputs": [],
   "source": []
  }
 ],
 "metadata": {
  "kernelspec": {
   "display_name": "Python 3",
   "language": "python",
   "name": "python3"
  },
  "language_info": {
   "codemirror_mode": {
    "name": "ipython",
    "version": 3
   },
   "file_extension": ".py",
   "mimetype": "text/x-python",
   "name": "python",
   "nbconvert_exporter": "python",
   "pygments_lexer": "ipython3",
   "version": "3.7.2"
  }
 },
 "nbformat": 4,
 "nbformat_minor": 2
}
