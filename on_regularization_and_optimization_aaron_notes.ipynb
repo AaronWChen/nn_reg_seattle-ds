{
 "cells": [
  {
   "cell_type": "markdown",
   "metadata": {},
   "source": [
    "# Regularization and Optimization in Neural Networks\n",
    "\n",
    "## Regularization of NNs\n",
    "\n",
    "Does regularization make sense in the context of neural networks? <br/>\n",
    "\n",
    "Yes! We still have all of the salient ingredients: a loss function, overfitting vs. underfitting, and coefficients (weights) that could get too large.\n",
    "\n",
    "But there are now a few different flavors besides L1 and L2 regularization. (Note that L1 regularization is not common in the context of  neural networks.)"
   ]
  },
  {
   "cell_type": "code",
   "execution_count": 1,
   "metadata": {},
   "outputs": [
    {
     "name": "stderr",
     "output_type": "stream",
     "text": [
      "Using TensorFlow backend.\n"
     ]
    }
   ],
   "source": [
    "import numpy as np\n",
    "import pandas as pd\n",
    "from sklearn.model_selection import train_test_split\n",
    "from sklearn.preprocessing import StandardScaler\n",
    "from keras.models import Sequential\n",
    "from keras.layers import Dense\n",
    "from matplotlib import pyplot as plt\n",
    "%matplotlib inline"
   ]
  },
  {
   "cell_type": "code",
   "execution_count": 2,
   "metadata": {},
   "outputs": [
    {
     "data": {
      "text/html": [
       "<div>\n",
       "<style scoped>\n",
       "    .dataframe tbody tr th:only-of-type {\n",
       "        vertical-align: middle;\n",
       "    }\n",
       "\n",
       "    .dataframe tbody tr th {\n",
       "        vertical-align: top;\n",
       "    }\n",
       "\n",
       "    .dataframe thead th {\n",
       "        text-align: right;\n",
       "    }\n",
       "</style>\n",
       "<table border=\"1\" class=\"dataframe\">\n",
       "  <thead>\n",
       "    <tr style=\"text-align: right;\">\n",
       "      <th></th>\n",
       "      <th>fixed acidity</th>\n",
       "      <th>volatile acidity</th>\n",
       "      <th>citric acid</th>\n",
       "      <th>residual sugar</th>\n",
       "      <th>chlorides</th>\n",
       "      <th>free sulfur dioxide</th>\n",
       "      <th>total sulfur dioxide</th>\n",
       "      <th>density</th>\n",
       "      <th>pH</th>\n",
       "      <th>sulphates</th>\n",
       "      <th>alcohol</th>\n",
       "      <th>quality</th>\n",
       "      <th>red_wine</th>\n",
       "    </tr>\n",
       "  </thead>\n",
       "  <tbody>\n",
       "    <tr>\n",
       "      <th>0</th>\n",
       "      <td>7.4</td>\n",
       "      <td>0.70</td>\n",
       "      <td>0.00</td>\n",
       "      <td>1.9</td>\n",
       "      <td>0.076</td>\n",
       "      <td>11.0</td>\n",
       "      <td>34.0</td>\n",
       "      <td>0.9978</td>\n",
       "      <td>3.51</td>\n",
       "      <td>0.56</td>\n",
       "      <td>9.4</td>\n",
       "      <td>5</td>\n",
       "      <td>1</td>\n",
       "    </tr>\n",
       "    <tr>\n",
       "      <th>1</th>\n",
       "      <td>7.8</td>\n",
       "      <td>0.88</td>\n",
       "      <td>0.00</td>\n",
       "      <td>2.6</td>\n",
       "      <td>0.098</td>\n",
       "      <td>25.0</td>\n",
       "      <td>67.0</td>\n",
       "      <td>0.9968</td>\n",
       "      <td>3.20</td>\n",
       "      <td>0.68</td>\n",
       "      <td>9.8</td>\n",
       "      <td>5</td>\n",
       "      <td>1</td>\n",
       "    </tr>\n",
       "    <tr>\n",
       "      <th>2</th>\n",
       "      <td>7.8</td>\n",
       "      <td>0.76</td>\n",
       "      <td>0.04</td>\n",
       "      <td>2.3</td>\n",
       "      <td>0.092</td>\n",
       "      <td>15.0</td>\n",
       "      <td>54.0</td>\n",
       "      <td>0.9970</td>\n",
       "      <td>3.26</td>\n",
       "      <td>0.65</td>\n",
       "      <td>9.8</td>\n",
       "      <td>5</td>\n",
       "      <td>1</td>\n",
       "    </tr>\n",
       "    <tr>\n",
       "      <th>3</th>\n",
       "      <td>11.2</td>\n",
       "      <td>0.28</td>\n",
       "      <td>0.56</td>\n",
       "      <td>1.9</td>\n",
       "      <td>0.075</td>\n",
       "      <td>17.0</td>\n",
       "      <td>60.0</td>\n",
       "      <td>0.9980</td>\n",
       "      <td>3.16</td>\n",
       "      <td>0.58</td>\n",
       "      <td>9.8</td>\n",
       "      <td>6</td>\n",
       "      <td>1</td>\n",
       "    </tr>\n",
       "    <tr>\n",
       "      <th>4</th>\n",
       "      <td>7.4</td>\n",
       "      <td>0.70</td>\n",
       "      <td>0.00</td>\n",
       "      <td>1.9</td>\n",
       "      <td>0.076</td>\n",
       "      <td>11.0</td>\n",
       "      <td>34.0</td>\n",
       "      <td>0.9978</td>\n",
       "      <td>3.51</td>\n",
       "      <td>0.56</td>\n",
       "      <td>9.4</td>\n",
       "      <td>5</td>\n",
       "      <td>1</td>\n",
       "    </tr>\n",
       "  </tbody>\n",
       "</table>\n",
       "</div>"
      ],
      "text/plain": [
       "   fixed acidity  volatile acidity  citric acid  residual sugar  chlorides  \\\n",
       "0            7.4              0.70         0.00             1.9      0.076   \n",
       "1            7.8              0.88         0.00             2.6      0.098   \n",
       "2            7.8              0.76         0.04             2.3      0.092   \n",
       "3           11.2              0.28         0.56             1.9      0.075   \n",
       "4            7.4              0.70         0.00             1.9      0.076   \n",
       "\n",
       "   free sulfur dioxide  total sulfur dioxide  density    pH  sulphates  \\\n",
       "0                 11.0                  34.0   0.9978  3.51       0.56   \n",
       "1                 25.0                  67.0   0.9968  3.20       0.68   \n",
       "2                 15.0                  54.0   0.9970  3.26       0.65   \n",
       "3                 17.0                  60.0   0.9980  3.16       0.58   \n",
       "4                 11.0                  34.0   0.9978  3.51       0.56   \n",
       "\n",
       "   alcohol  quality  red_wine  \n",
       "0      9.4        5         1  \n",
       "1      9.8        5         1  \n",
       "2      9.8        5         1  \n",
       "3      9.8        6         1  \n",
       "4      9.4        5         1  "
      ]
     },
     "execution_count": 2,
     "metadata": {},
     "output_type": "execute_result"
    }
   ],
   "source": [
    "wine = pd.read_csv('wine.csv')\n",
    "wine.head()"
   ]
  },
  {
   "cell_type": "code",
   "execution_count": 3,
   "metadata": {},
   "outputs": [],
   "source": [
    "X = wine.drop('quality', axis=1)\n",
    "y = wine.quality"
   ]
  },
  {
   "cell_type": "code",
   "execution_count": 4,
   "metadata": {},
   "outputs": [
    {
     "data": {
      "text/plain": [
       "6    2836\n",
       "5    2138\n",
       "7    1079\n",
       "4     216\n",
       "8     193\n",
       "3      30\n",
       "9       5\n",
       "Name: quality, dtype: int64"
      ]
     },
     "execution_count": 4,
     "metadata": {},
     "output_type": "execute_result"
    }
   ],
   "source": [
    "wine['quality'].value_counts()"
   ]
  },
  {
   "cell_type": "code",
   "execution_count": 5,
   "metadata": {
    "scrolled": true
   },
   "outputs": [
    {
     "name": "stderr",
     "output_type": "stream",
     "text": [
      "//anaconda3/envs/learn-env/lib/python3.6/site-packages/sklearn/preprocessing/data.py:625: DataConversionWarning: Data with input dtype int64, float64 were all converted to float64 by StandardScaler.\n",
      "  return self.partial_fit(X, y)\n",
      "//anaconda3/envs/learn-env/lib/python3.6/site-packages/sklearn/base.py:462: DataConversionWarning: Data with input dtype int64, float64 were all converted to float64 by StandardScaler.\n",
      "  return self.fit(X, **fit_params).transform(X)\n",
      "//anaconda3/envs/learn-env/lib/python3.6/site-packages/ipykernel_launcher.py:5: DataConversionWarning: Data with input dtype int64, float64 were all converted to float64 by StandardScaler.\n",
      "  \"\"\"\n"
     ]
    }
   ],
   "source": [
    "X_train, X_test, y_train, y_test = train_test_split(X, y,\n",
    "                                                    random_state=11, stratify=y)\n",
    "ss = StandardScaler()\n",
    "X_train_s = ss.fit_transform(X_train).astype(np.int32)\n",
    "X_test_s = ss.transform(X_test).astype(np.int32)"
   ]
  },
  {
   "cell_type": "code",
   "execution_count": null,
   "metadata": {},
   "outputs": [],
   "source": [
    "# y_train_c = to_categorical(y_train).astype(np.int32)\n",
    "# y_test_c = to_categorical(y_test).astype(np.int32)"
   ]
  },
  {
   "cell_type": "code",
   "execution_count": 6,
   "metadata": {},
   "outputs": [],
   "source": [
    "model = Sequential()\n",
    "\n",
    "n_input = X_train_s.shape[1]\n",
    "\n",
    "model.add(Dense(n_input, activation='relu'))\n",
    "model.add(Dense(1))"
   ]
  },
  {
   "cell_type": "code",
   "execution_count": 7,
   "metadata": {},
   "outputs": [],
   "source": [
    "model.compile(optimizer='adam', loss='mean_squared_error', metrics=['acc'])"
   ]
  },
  {
   "cell_type": "markdown",
   "metadata": {},
   "source": [
    "By the way, here is a helpful blog post that goes carefully through a list of similarly-named different activation functions and loss functions: https://gombru.github.io/2018/05/23/cross_entropy_loss/"
   ]
  },
  {
   "cell_type": "code",
   "execution_count": 8,
   "metadata": {},
   "outputs": [
    {
     "name": "stdout",
     "output_type": "stream",
     "text": [
      "Train on 4872 samples, validate on 1625 samples\n",
      "Epoch 1/30\n",
      "4872/4872 [==============================] - 1s 245us/step - loss: 22.3716 - acc: 0.0049 - val_loss: 16.1125 - val_acc: 0.0166\n",
      "Epoch 2/30\n",
      "4872/4872 [==============================] - 0s 73us/step - loss: 11.4240 - acc: 0.0593 - val_loss: 7.8764 - val_acc: 0.0911\n",
      "Epoch 3/30\n",
      "4872/4872 [==============================] - 0s 65us/step - loss: 5.5046 - acc: 0.1359 - val_loss: 3.9999 - val_acc: 0.1711\n",
      "Epoch 4/30\n",
      "4872/4872 [==============================] - 0s 61us/step - loss: 3.1617 - acc: 0.2338 - val_loss: 2.7206 - val_acc: 0.2548\n",
      "Epoch 5/30\n",
      "4872/4872 [==============================] - 0s 51us/step - loss: 2.3170 - acc: 0.2789 - val_loss: 2.1611 - val_acc: 0.2929\n",
      "Epoch 6/30\n",
      "4872/4872 [==============================] - 0s 79us/step - loss: 1.8593 - acc: 0.3101 - val_loss: 1.7724 - val_acc: 0.3132\n",
      "Epoch 7/30\n",
      "4872/4872 [==============================] - 0s 58us/step - loss: 1.5344 - acc: 0.3356 - val_loss: 1.4866 - val_acc: 0.3409\n",
      "Epoch 8/30\n",
      "4872/4872 [==============================] - 0s 62us/step - loss: 1.2858 - acc: 0.3670 - val_loss: 1.2584 - val_acc: 0.3871\n",
      "Epoch 9/30\n",
      "4872/4872 [==============================] - 0s 61us/step - loss: 1.0908 - acc: 0.3924 - val_loss: 1.0713 - val_acc: 0.4117\n",
      "Epoch 10/30\n",
      "4872/4872 [==============================] - 0s 64us/step - loss: 0.9394 - acc: 0.4119 - val_loss: 0.9325 - val_acc: 0.4295\n",
      "Epoch 11/30\n",
      "4872/4872 [==============================] - 0s 53us/step - loss: 0.8282 - acc: 0.4288 - val_loss: 0.8361 - val_acc: 0.4449\n",
      "Epoch 12/30\n",
      "4872/4872 [==============================] - 0s 52us/step - loss: 0.7506 - acc: 0.4405 - val_loss: 0.7700 - val_acc: 0.4572\n",
      "Epoch 13/30\n",
      "4872/4872 [==============================] - 0s 94us/step - loss: 0.6968 - acc: 0.4544 - val_loss: 0.7291 - val_acc: 0.4695\n",
      "Epoch 14/30\n",
      "4872/4872 [==============================] - 0s 57us/step - loss: 0.6612 - acc: 0.4719 - val_loss: 0.6994 - val_acc: 0.4812\n",
      "Epoch 15/30\n",
      "4872/4872 [==============================] - 0s 56us/step - loss: 0.6379 - acc: 0.4731 - val_loss: 0.6829 - val_acc: 0.4782\n",
      "Epoch 16/30\n",
      "4872/4872 [==============================] - 0s 65us/step - loss: 0.6198 - acc: 0.4832 - val_loss: 0.6718 - val_acc: 0.4831\n",
      "Epoch 17/30\n",
      "4872/4872 [==============================] - 0s 55us/step - loss: 0.6086 - acc: 0.4865 - val_loss: 0.6584 - val_acc: 0.4874\n",
      "Epoch 18/30\n",
      "4872/4872 [==============================] - 0s 47us/step - loss: 0.5988 - acc: 0.4865 - val_loss: 0.6525 - val_acc: 0.4923\n",
      "Epoch 19/30\n",
      "4872/4872 [==============================] - 0s 55us/step - loss: 0.5914 - acc: 0.4908 - val_loss: 0.6474 - val_acc: 0.4905\n",
      "Epoch 20/30\n",
      "4872/4872 [==============================] - 0s 71us/step - loss: 0.5864 - acc: 0.4865 - val_loss: 0.6442 - val_acc: 0.4892\n",
      "Epoch 21/30\n",
      "4872/4872 [==============================] - 0s 52us/step - loss: 0.5818 - acc: 0.4887 - val_loss: 0.6408 - val_acc: 0.4905\n",
      "Epoch 22/30\n",
      "4872/4872 [==============================] - 0s 47us/step - loss: 0.5784 - acc: 0.4897 - val_loss: 0.6398 - val_acc: 0.4954\n",
      "Epoch 23/30\n",
      "4872/4872 [==============================] - 0s 52us/step - loss: 0.5746 - acc: 0.4947 - val_loss: 0.6373 - val_acc: 0.4911\n",
      "Epoch 24/30\n",
      "4872/4872 [==============================] - 0s 54us/step - loss: 0.5723 - acc: 0.4908 - val_loss: 0.6312 - val_acc: 0.4942\n",
      "Epoch 25/30\n",
      "4872/4872 [==============================] - 0s 46us/step - loss: 0.5707 - acc: 0.4899 - val_loss: 0.6273 - val_acc: 0.4892\n",
      "Epoch 26/30\n",
      "4872/4872 [==============================] - 0s 53us/step - loss: 0.5670 - acc: 0.4924 - val_loss: 0.6301 - val_acc: 0.4905\n",
      "Epoch 27/30\n",
      "4872/4872 [==============================] - 0s 55us/step - loss: 0.5675 - acc: 0.4912 - val_loss: 0.6267 - val_acc: 0.4886\n",
      "Epoch 28/30\n",
      "4872/4872 [==============================] - 0s 55us/step - loss: 0.5640 - acc: 0.4975 - val_loss: 0.6236 - val_acc: 0.4868\n",
      "Epoch 29/30\n",
      "4872/4872 [==============================] - 0s 55us/step - loss: 0.5630 - acc: 0.4949 - val_loss: 0.6243 - val_acc: 0.4917\n",
      "Epoch 30/30\n",
      "4872/4872 [==============================] - 0s 50us/step - loss: 0.5625 - acc: 0.4963 - val_loss: 0.6191 - val_acc: 0.4923\n"
     ]
    }
   ],
   "source": [
    "history = model.fit(X_train_s, np.array(y_train),\n",
    "                    validation_data=(X_test_s, np.array(y_test)),\n",
    "                   epochs=30, batch_size=None)"
   ]
  },
  {
   "cell_type": "code",
   "execution_count": 9,
   "metadata": {},
   "outputs": [
    {
     "name": "stdout",
     "output_type": "stream",
     "text": [
      "[array([[ 0.29570356,  0.4029405 ,  0.13234727, -0.15642022,  0.17036992,\n",
      "        -0.22459559,  0.36353648, -0.01372498, -0.15741543, -0.39049953,\n",
      "        -0.46696907,  0.278473  ],\n",
      "       [ 0.15086879, -0.00110078, -0.0529059 , -0.06780171, -0.05738944,\n",
      "         0.32296497, -0.57505965, -0.38440582, -0.4676018 , -0.27860835,\n",
      "        -0.4360004 , -0.15055665],\n",
      "       [ 0.28841433,  0.39182317, -0.02133318, -0.06594245,  0.12862344,\n",
      "        -0.18425308, -0.42566147, -0.23289253,  0.62273276,  0.161406  ,\n",
      "         0.08939992,  0.3092068 ],\n",
      "       [-0.03424571,  0.36082178,  0.07973922,  0.11740685, -0.3845603 ,\n",
      "         0.2380666 , -0.66829294,  0.27541053,  0.37787664,  0.1143884 ,\n",
      "         0.5535567 ,  0.21106589],\n",
      "       [-0.2334365 ,  0.354469  , -0.00866889,  0.21685298,  0.38671523,\n",
      "         0.05343591,  0.18746814, -0.06734001, -0.15231249, -0.05959271,\n",
      "         0.01441472, -0.09627475],\n",
      "       [ 0.01811321,  0.3643815 ,  0.22547516, -0.06142164,  0.44280797,\n",
      "         0.33695185,  0.5925616 , -0.11146519, -0.6694922 ,  0.15259667,\n",
      "         0.29774743, -0.0684184 ],\n",
      "       [-0.25237882,  0.24627838,  0.14300321,  0.10420413,  0.39343825,\n",
      "        -0.54414624, -0.20851727, -0.1357847 ,  0.38914227,  0.09053846,\n",
      "         0.4090207 ,  0.4234594 ],\n",
      "       [-0.23688334, -0.2013045 ,  0.2367512 , -0.04911565,  0.38117844,\n",
      "        -0.462463  ,  0.03124554,  0.17925714,  0.17970964, -0.1256486 ,\n",
      "        -0.3045987 , -0.12230334],\n",
      "       [ 0.3676036 , -0.316512  ,  0.11348076, -0.3705947 ,  0.09913462,\n",
      "        -0.42616302, -0.22622217,  0.31051537,  0.3890221 ,  0.07247978,\n",
      "         0.0260453 , -0.2425306 ],\n",
      "       [ 0.18397789,  0.30510193, -0.06474762,  0.40598646, -0.36913654,\n",
      "        -0.14393492, -0.30328393, -0.03283262, -0.00153273, -0.07121878,\n",
      "        -0.15005487, -0.16307558],\n",
      "       [ 0.6269114 ,  0.28123304, -0.06118052, -0.3177854 , -0.12455734,\n",
      "         0.41333434, -0.28419942, -0.29290134,  0.08346561, -0.15739392,\n",
      "        -0.12390489,  0.6558861 ],\n",
      "       [ 0.30363956,  0.13182503,  0.05831446,  0.24987486, -0.55280757,\n",
      "         0.26633796,  0.1887882 ,  0.146532  ,  0.001718  , -0.8233488 ,\n",
      "         0.47176814,  0.4033769 ]], dtype=float32), array([ 0.76712763, -0.19315638,  0.71382236,  0.8069553 ,  1.365335  ,\n",
      "        0.7547708 , -0.04659615,  0.87807024, -0.22125891,  0.8260086 ,\n",
      "       -0.17995135,  0.7812321 ], dtype=float32)]\n",
      "[array([[ 1.0129373 ],\n",
      "       [-0.61171365],\n",
      "       [ 0.12345424],\n",
      "       [ 1.0778756 ],\n",
      "       [ 0.5434324 ],\n",
      "       [ 0.6573656 ],\n",
      "       [-0.20054728],\n",
      "       [ 1.0464841 ],\n",
      "       [-0.30597913],\n",
      "       [ 1.1601082 ],\n",
      "       [-0.68464154],\n",
      "       [ 0.68879116]], dtype=float32), array([0.5169704], dtype=float32)]\n"
     ]
    }
   ],
   "source": [
    "for layer in model.layers:\n",
    "    print(layer.get_weights())"
   ]
  },
  {
   "cell_type": "code",
   "execution_count": 10,
   "metadata": {},
   "outputs": [
    {
     "data": {
      "image/png": "[encoded data removed]",
      "text/plain": [
       "<Figure size 432x288 with 1 Axes>"
      ]
     },
     "metadata": {
      "needs_background": "light"
     },
     "output_type": "display_data"
    }
   ],
   "source": [
    "plt.plot(history.history['loss'], label='Train loss')\n",
    "plt.plot(history.history['val_loss'], label='Test loss')\n",
    "plt.legend();"
   ]
  },
  {
   "cell_type": "code",
   "execution_count": 11,
   "metadata": {},
   "outputs": [
    {
     "data": {
      "text/plain": [
       "989.6724996566772"
      ]
     },
     "execution_count": 11,
     "metadata": {},
     "output_type": "execute_result"
    }
   ],
   "source": [
    "sum(abs(np.array(model.predict(X_test_s).T) - np.array(y_test))[0])"
   ]
  },
  {
   "cell_type": "markdown",
   "metadata": {},
   "source": [
    "## Adding Regularization"
   ]
  },
  {
   "cell_type": "markdown",
   "metadata": {},
   "source": [
    "Here's a helpful review article on regularization techniques: https://towardsdatascience.com/regularization-in-machine-learning-connecting-the-dots-c6e030bfaddd"
   ]
  },
  {
   "cell_type": "code",
   "execution_count": 12,
   "metadata": {},
   "outputs": [],
   "source": [
    "from keras import regularizers"
   ]
  },
  {
   "cell_type": "code",
   "execution_count": 13,
   "metadata": {},
   "outputs": [],
   "source": [
    "model_r = Sequential()\n",
    "\n",
    "n_input = X_train_s.shape[1]\n",
    "\n",
    "model_r.add(Dense(n_input, activation='relu',\n",
    "                 kernel_regularizer=regularizers.l2(0.01)))\n",
    "model_r.add(Dense(1,\n",
    "                 kernel_regularizer=regularizers.l2(0.01)))"
   ]
  },
  {
   "cell_type": "code",
   "execution_count": 14,
   "metadata": {},
   "outputs": [
    {
     "name": "stdout",
     "output_type": "stream",
     "text": [
      "Train on 4872 samples, validate on 1625 samples\n",
      "Epoch 1/42\n",
      "4872/4872 [==============================] - 1s 115us/step - loss: 32.1915 - val_loss: 26.2275\n",
      "Epoch 2/42\n",
      "4872/4872 [==============================] - 0s 99us/step - loss: 20.3187 - val_loss: 14.5678\n",
      "Epoch 3/42\n",
      "4872/4872 [==============================] - ETA: 0s - loss: 10.46 - 0s 98us/step - loss: 10.1533 - val_loss: 6.5988\n",
      "Epoch 4/42\n",
      "4872/4872 [==============================] - 0s 76us/step - loss: 4.7192 - val_loss: 3.4323\n",
      "Epoch 5/42\n",
      "4872/4872 [==============================] - 0s 63us/step - loss: 2.8720 - val_loss: 2.4418\n",
      "Epoch 6/42\n",
      "4872/4872 [==============================] - 0s 63us/step - loss: 2.1677 - val_loss: 1.9554\n",
      "Epoch 7/42\n",
      "4872/4872 [==============================] - 0s 50us/step - loss: 1.7699 - val_loss: 1.6408\n",
      "Epoch 8/42\n",
      "4872/4872 [==============================] - 0s 61us/step - loss: 1.4945 - val_loss: 1.4047\n",
      "Epoch 9/42\n",
      "4872/4872 [==============================] - 0s 63us/step - loss: 1.2854 - val_loss: 1.2188\n",
      "Epoch 10/42\n",
      "4872/4872 [==============================] - 0s 58us/step - loss: 1.1222 - val_loss: 1.0780\n",
      "Epoch 11/42\n",
      "4872/4872 [==============================] - 0s 63us/step - loss: 1.0017 - val_loss: 0.9774\n",
      "Epoch 12/42\n",
      "4872/4872 [==============================] - 0s 53us/step - loss: 0.9133 - val_loss: 0.9070\n",
      "Epoch 13/42\n",
      "4872/4872 [==============================] - 0s 52us/step - loss: 0.8508 - val_loss: 0.8607\n",
      "Epoch 14/42\n",
      "4872/4872 [==============================] - 0s 67us/step - loss: 0.8069 - val_loss: 0.8243\n",
      "Epoch 15/42\n",
      "4872/4872 [==============================] - 0s 54us/step - loss: 0.7792 - val_loss: 0.8025\n",
      "Epoch 16/42\n",
      "4872/4872 [==============================] - 0s 50us/step - loss: 0.7571 - val_loss: 0.7905\n",
      "Epoch 17/42\n",
      "4872/4872 [==============================] - 0s 56us/step - loss: 0.7422 - val_loss: 0.7746\n",
      "Epoch 18/42\n",
      "4872/4872 [==============================] - 0s 53us/step - loss: 0.7287 - val_loss: 0.7652\n",
      "Epoch 19/42\n",
      "4872/4872 [==============================] - 0s 55us/step - loss: 0.7169 - val_loss: 0.7618\n",
      "Epoch 20/42\n",
      "4872/4872 [==============================] - 0s 58us/step - loss: 0.7095 - val_loss: 0.7512\n",
      "Epoch 21/42\n",
      "4872/4872 [==============================] - 1s 146us/step - loss: 0.7012 - val_loss: 0.7474\n",
      "Epoch 22/42\n",
      "4872/4872 [==============================] - 0s 83us/step - loss: 0.6939 - val_loss: 0.7420\n",
      "Epoch 23/42\n",
      "4872/4872 [==============================] - 0s 98us/step - loss: 0.6880 - val_loss: 0.7311\n",
      "Epoch 24/42\n",
      "4872/4872 [==============================] - 0s 84us/step - loss: 0.6826 - val_loss: 0.7326\n",
      "Epoch 25/42\n",
      "4872/4872 [==============================] - 1s 132us/step - loss: 0.6784 - val_loss: 0.7238\n",
      "Epoch 26/42\n",
      "4872/4872 [==============================] - 0s 78us/step - loss: 0.6737 - val_loss: 0.7225\n",
      "Epoch 27/42\n",
      "4872/4872 [==============================] - 1s 112us/step - loss: 0.6704 - val_loss: 0.7194\n",
      "Epoch 28/42\n",
      "4872/4872 [==============================] - 0s 75us/step - loss: 0.6671 - val_loss: 0.7134\n",
      "Epoch 29/42\n",
      "4872/4872 [==============================] - 0s 55us/step - loss: 0.6642 - val_loss: 0.7131\n",
      "Epoch 30/42\n",
      "4872/4872 [==============================] - 0s 67us/step - loss: 0.6611 - val_loss: 0.7084\n",
      "Epoch 31/42\n",
      "4872/4872 [==============================] - 0s 54us/step - loss: 0.6574 - val_loss: 0.7082\n",
      "Epoch 32/42\n",
      "4872/4872 [==============================] - 0s 63us/step - loss: 0.6561 - val_loss: 0.7014\n",
      "Epoch 33/42\n",
      "4872/4872 [==============================] - 0s 73us/step - loss: 0.6541 - val_loss: 0.7013\n",
      "Epoch 34/42\n",
      "4872/4872 [==============================] - 0s 82us/step - loss: 0.6513 - val_loss: 0.6961\n",
      "Epoch 35/42\n",
      "4872/4872 [==============================] - 0s 61us/step - loss: 0.6478 - val_loss: 0.6970\n",
      "Epoch 36/42\n",
      "4872/4872 [==============================] - 0s 60us/step - loss: 0.6473 - val_loss: 0.6918\n",
      "Epoch 37/42\n",
      "4872/4872 [==============================] - 0s 71us/step - loss: 0.6438 - val_loss: 0.6946\n",
      "Epoch 38/42\n",
      "4872/4872 [==============================] - 0s 55us/step - loss: 0.6418 - val_loss: 0.6908\n",
      "Epoch 39/42\n",
      "4872/4872 [==============================] - 0s 51us/step - loss: 0.6393 - val_loss: 0.6886\n",
      "Epoch 40/42\n",
      "4872/4872 [==============================] - 0s 79us/step - loss: 0.6396 - val_loss: 0.6873\n",
      "Epoch 41/42\n",
      "4872/4872 [==============================] - 1s 112us/step - loss: 0.6378 - val_loss: 0.6879\n",
      "Epoch 42/42\n",
      "4872/4872 [==============================] - 0s 70us/step - loss: 0.6369 - val_loss: 0.6805\n"
     ]
    }
   ],
   "source": [
    "model_r.compile(optimizer='adam', loss='mean_squared_error')\n",
    "\n",
    "history_r = model_r.fit(X_train_s, np.array(y_train),\n",
    "                        validation_data=(X_test_s, np.array(y_test)),\n",
    "                       epochs=42, batch_size=None)"
   ]
  },
  {
   "cell_type": "code",
   "execution_count": 15,
   "metadata": {},
   "outputs": [
    {
     "data": {
      "image/png": "[encoded data removed]",
      "text/plain": [
       "<Figure size 432x288 with 1 Axes>"
      ]
     },
     "metadata": {
      "needs_background": "light"
     },
     "output_type": "display_data"
    }
   ],
   "source": [
    "plt.plot(history_r.history['loss'], label='Training loss')\n",
    "plt.plot(history_r.history['val_loss'], label='Testing loss')\n",
    "plt.legend();"
   ]
  },
  {
   "cell_type": "markdown",
   "metadata": {},
   "source": [
    "#### Examining Our Predictions"
   ]
  },
  {
   "cell_type": "code",
   "execution_count": 16,
   "metadata": {},
   "outputs": [
    {
     "data": {
      "text/plain": [
       "array([[5.59],\n",
       "       [5.54],\n",
       "       [4.77],\n",
       "       [5.81],\n",
       "       [5.  ],\n",
       "       [5.83],\n",
       "       [5.52],\n",
       "       [4.94],\n",
       "       [5.6 ],\n",
       "       [5.89]], dtype=float32)"
      ]
     },
     "execution_count": 16,
     "metadata": {},
     "output_type": "execute_result"
    }
   ],
   "source": [
    "model_r.predict(X_test_s[:10]).round(2)"
   ]
  },
  {
   "cell_type": "code",
   "execution_count": 17,
   "metadata": {},
   "outputs": [
    {
     "data": {
      "text/plain": [
       "930     5\n",
       "143     5\n",
       "1037    5\n",
       "4212    5\n",
       "1032    5\n",
       "5236    7\n",
       "4651    7\n",
       "4       5\n",
       "1091    6\n",
       "1536    6\n",
       "Name: quality, dtype: int64"
      ]
     },
     "execution_count": 17,
     "metadata": {},
     "output_type": "execute_result"
    }
   ],
   "source": [
    "y_test[:10]"
   ]
  },
  {
   "cell_type": "code",
   "execution_count": 18,
   "metadata": {},
   "outputs": [
    {
     "data": {
      "text/plain": [
       "array([[5.5850887, 5.5434613, 4.772732 , ..., 6.06506  , 5.131325 ,\n",
       "        6.1560698]], dtype=float32)"
      ]
     },
     "execution_count": 18,
     "metadata": {},
     "output_type": "execute_result"
    }
   ],
   "source": [
    "model_r.predict(X_test_s).T"
   ]
  },
  {
   "cell_type": "code",
   "execution_count": 19,
   "metadata": {},
   "outputs": [
    {
     "data": {
      "text/plain": [
       "array([ 0.58508873,  0.54346132, -0.22726822, ...,  1.06506014,\n",
       "        0.13132477,  0.15606976])"
      ]
     },
     "execution_count": 19,
     "metadata": {},
     "output_type": "execute_result"
    }
   ],
   "source": [
    "(np.array(model_r.predict(X_test_s).T) - np.array(y_test))[0]"
   ]
  },
  {
   "cell_type": "code",
   "execution_count": 20,
   "metadata": {},
   "outputs": [
    {
     "data": {
      "text/plain": [
       "989.1040163040161"
      ]
     },
     "execution_count": 20,
     "metadata": {},
     "output_type": "execute_result"
    }
   ],
   "source": [
    "sum(abs(np.array(model_r.predict(X_test_s).T) - np.array(y_test))[0])"
   ]
  },
  {
   "cell_type": "markdown",
   "metadata": {},
   "source": [
    "### Dropout"
   ]
  },
  {
   "cell_type": "markdown",
   "metadata": {},
   "source": [
    "Here's a new regularization idea: Turn some neurons off during training. We'll assign probabilities of 'dropout' and then let fate decide.\n",
    "\n",
    "$\\rightarrow$ Why is this a good idea? *Is* it a good idea?\n",
    "\n",
    "Was this sort of regularization available to us before? Why (not)?"
   ]
  },
  {
   "cell_type": "code",
   "execution_count": 21,
   "metadata": {},
   "outputs": [],
   "source": [
    "from keras.layers import Dropout"
   ]
  },
  {
   "cell_type": "code",
   "execution_count": 22,
   "metadata": {},
   "outputs": [
    {
     "name": "stdout",
     "output_type": "stream",
     "text": [
      "Train on 4872 samples, validate on 1625 samples\n",
      "Epoch 1/42\n",
      "4872/4872 [==============================] - 1s 122us/step - loss: 26.6295 - val_loss: 20.1045\n",
      "Epoch 2/42\n",
      "4872/4872 [==============================] - 0s 87us/step - loss: 15.6088 - val_loss: 10.8737\n",
      "Epoch 3/42\n",
      "4872/4872 [==============================] - 0s 58us/step - loss: 8.6416 - val_loss: 5.2876\n",
      "Epoch 4/42\n",
      "4872/4872 [==============================] - 0s 57us/step - loss: 5.0831 - val_loss: 2.8059\n",
      "Epoch 5/42\n",
      "4872/4872 [==============================] - 0s 55us/step - loss: 3.5966 - val_loss: 1.9460\n",
      "Epoch 6/42\n",
      "4872/4872 [==============================] - 0s 66us/step - loss: 3.1244 - val_loss: 1.5479\n",
      "Epoch 7/42\n",
      "4872/4872 [==============================] - 0s 57us/step - loss: 2.7483 - val_loss: 1.3109\n",
      "Epoch 8/42\n",
      "4872/4872 [==============================] - 0s 69us/step - loss: 2.5032 - val_loss: 1.1494\n",
      "Epoch 9/42\n",
      "4872/4872 [==============================] - 0s 56us/step - loss: 2.2752 - val_loss: 1.0154\n",
      "Epoch 10/42\n",
      "4872/4872 [==============================] - 0s 58us/step - loss: 2.2408 - val_loss: 0.9194\n",
      "Epoch 11/42\n",
      "4872/4872 [==============================] - 0s 57us/step - loss: 2.0532 - val_loss: 0.8427\n",
      "Epoch 12/42\n",
      "4872/4872 [==============================] - 0s 55us/step - loss: 1.9446 - val_loss: 0.7949\n",
      "Epoch 13/42\n",
      "4872/4872 [==============================] - 0s 57us/step - loss: 1.7729 - val_loss: 0.7603\n",
      "Epoch 14/42\n",
      "4872/4872 [==============================] - 0s 58us/step - loss: 1.7276 - val_loss: 0.7253\n",
      "Epoch 15/42\n",
      "4872/4872 [==============================] - 0s 66us/step - loss: 1.7899 - val_loss: 0.7117\n",
      "Epoch 16/42\n",
      "4872/4872 [==============================] - 0s 56us/step - loss: 1.6327 - val_loss: 0.7022\n",
      "Epoch 17/42\n",
      "4872/4872 [==============================] - 0s 56us/step - loss: 1.6012 - val_loss: 0.6903\n",
      "Epoch 18/42\n",
      "4872/4872 [==============================] - 0s 78us/step - loss: 1.5485 - val_loss: 0.6673\n",
      "Epoch 19/42\n",
      "4872/4872 [==============================] - 0s 80us/step - loss: 1.5548 - val_loss: 0.6628\n",
      "Epoch 20/42\n",
      "4872/4872 [==============================] - 0s 55us/step - loss: 1.4973 - val_loss: 0.6551\n",
      "Epoch 21/42\n",
      "4872/4872 [==============================] - 0s 57us/step - loss: 1.4449 - val_loss: 0.6455\n",
      "Epoch 22/42\n",
      "4872/4872 [==============================] - 0s 71us/step - loss: 1.4372 - val_loss: 0.6598\n",
      "Epoch 23/42\n",
      "4872/4872 [==============================] - 0s 62us/step - loss: 1.4143 - val_loss: 0.6503\n",
      "Epoch 24/42\n",
      "4872/4872 [==============================] - 0s 65us/step - loss: 1.4130 - val_loss: 0.6473\n",
      "Epoch 25/42\n",
      "4872/4872 [==============================] - 0s 83us/step - loss: 1.3254 - val_loss: 0.6429\n",
      "Epoch 26/42\n",
      "4872/4872 [==============================] - 0s 64us/step - loss: 1.3175 - val_loss: 0.6465\n",
      "Epoch 27/42\n",
      "4872/4872 [==============================] - 0s 53us/step - loss: 1.3082 - val_loss: 0.6228\n",
      "Epoch 28/42\n",
      "4872/4872 [==============================] - 0s 54us/step - loss: 1.3490 - val_loss: 0.6410\n",
      "Epoch 29/42\n",
      "4872/4872 [==============================] - 0s 73us/step - loss: 1.3545 - val_loss: 0.6386\n",
      "Epoch 30/42\n",
      "4872/4872 [==============================] - 0s 55us/step - loss: 1.2893 - val_loss: 0.6343\n",
      "Epoch 31/42\n",
      "4872/4872 [==============================] - 0s 58us/step - loss: 1.2834 - val_loss: 0.6272\n",
      "Epoch 32/42\n",
      "4872/4872 [==============================] - 0s 58us/step - loss: 1.2205 - val_loss: 0.6453\n",
      "Epoch 33/42\n",
      "4872/4872 [==============================] - 0s 71us/step - loss: 1.2293 - val_loss: 0.6506\n",
      "Epoch 34/42\n",
      "4872/4872 [==============================] - 0s 55us/step - loss: 1.1831 - val_loss: 0.6442\n",
      "Epoch 35/42\n",
      "4872/4872 [==============================] - 0s 66us/step - loss: 1.1765 - val_loss: 0.6427\n",
      "Epoch 36/42\n",
      "4872/4872 [==============================] - 0s 57us/step - loss: 1.1650 - val_loss: 0.6234\n",
      "Epoch 37/42\n",
      "4872/4872 [==============================] - 0s 62us/step - loss: 1.1435 - val_loss: 0.6380\n",
      "Epoch 38/42\n",
      "4872/4872 [==============================] - 0s 78us/step - loss: 1.1391 - val_loss: 0.6228\n",
      "Epoch 39/42\n",
      "4872/4872 [==============================] - 0s 69us/step - loss: 1.1293 - val_loss: 0.6424\n",
      "Epoch 40/42\n",
      "4872/4872 [==============================] - 0s 56us/step - loss: 1.0891 - val_loss: 0.6223\n",
      "Epoch 41/42\n",
      "4872/4872 [==============================] - 0s 61us/step - loss: 1.0716 - val_loss: 0.6189\n",
      "Epoch 42/42\n",
      "4872/4872 [==============================] - 0s 74us/step - loss: 1.0736 - val_loss: 0.6171\n"
     ]
    }
   ],
   "source": [
    "model_d = Sequential()\n",
    "\n",
    "n_input = X_train_s.shape[1]\n",
    "\n",
    "model_d.add(Dense(n_input, activation='relu'))\n",
    "model_d.add(Dropout(0.2))\n",
    "model_d.add(Dense(1))\n",
    "\n",
    "model_d.compile(optimizer='adam', loss='mean_squared_error')\n",
    "\n",
    "history_d = model_d.fit(X_train_s, np.array(y_train),\n",
    "                        validation_data=(X_test_s, np.array(y_test)),\n",
    "                        epochs=42, batch_size=None)"
   ]
  },
  {
   "cell_type": "code",
   "execution_count": 23,
   "metadata": {},
   "outputs": [
    {
     "data": {
      "image/png": "[encoded data removed]",
      "text/plain": [
       "<Figure size 432x288 with 1 Axes>"
      ]
     },
     "metadata": {
      "needs_background": "light"
     },
     "output_type": "display_data"
    }
   ],
   "source": [
    "plt.plot(history_d.history['loss'], label='Training loss')\n",
    "plt.plot(history_d.history['val_loss'], label='Testing loss')\n",
    "plt.legend();"
   ]
  },
  {
   "cell_type": "code",
   "execution_count": null,
   "metadata": {},
   "outputs": [],
   "source": [
    "# history_d.history['acc'][-1], history_d.history['val_acc'][-1]"
   ]
  },
  {
   "cell_type": "code",
   "execution_count": 24,
   "metadata": {},
   "outputs": [
    {
     "data": {
      "text/plain": [
       "993.9098806381226"
      ]
     },
     "execution_count": 24,
     "metadata": {},
     "output_type": "execute_result"
    }
   ],
   "source": [
    "sum(abs(np.array(model_d.predict(X_test_s).T) - np.array(y_test))[0])"
   ]
  },
  {
   "cell_type": "markdown",
   "metadata": {},
   "source": [
    "### Early Stopping"
   ]
  },
  {
   "cell_type": "markdown",
   "metadata": {},
   "source": [
    "Another idea is to try to terminate the training process early, even before some pre-specified number of epochs.\n",
    "\n",
    "$\\rightarrow$ Why is this a good idea? *Is* it a good idea?\n",
    "\n",
    "Was this sort of regularization available to us before? Why (not)?"
   ]
  },
  {
   "cell_type": "code",
   "execution_count": 25,
   "metadata": {},
   "outputs": [],
   "source": [
    "from keras.callbacks import EarlyStopping"
   ]
  },
  {
   "cell_type": "code",
   "execution_count": 26,
   "metadata": {},
   "outputs": [
    {
     "name": "stdout",
     "output_type": "stream",
     "text": [
      "Train on 4872 samples, validate on 1625 samples\n",
      "Epoch 1/40\n",
      "4872/4872 [==============================] - 1s 151us/step - loss: 29.0586 - val_loss: 23.2886\n",
      "Epoch 2/40\n",
      "4872/4872 [==============================] - 0s 65us/step - loss: 18.6966 - val_loss: 14.6689\n",
      "Epoch 3/40\n",
      "4872/4872 [==============================] - 0s 97us/step - loss: 10.5404 - val_loss: 6.9067\n",
      "Epoch 4/40\n",
      "4872/4872 [==============================] - 0s 73us/step - loss: 4.5927 - val_loss: 2.9722\n",
      "Epoch 5/40\n",
      "4872/4872 [==============================] - 0s 63us/step - loss: 2.3877 - val_loss: 1.9137\n",
      "Epoch 6/40\n",
      "4872/4872 [==============================] - 0s 54us/step - loss: 1.6720 - val_loss: 1.4791\n",
      "Epoch 7/40\n",
      "4872/4872 [==============================] - 0s 54us/step - loss: 1.3059 - val_loss: 1.2023\n",
      "Epoch 8/40\n",
      "4872/4872 [==============================] - 0s 55us/step - loss: 1.0723 - val_loss: 1.0323\n",
      "Epoch 9/40\n",
      "4872/4872 [==============================] - 0s 61us/step - loss: 0.9270 - val_loss: 0.9216\n",
      "Epoch 10/40\n",
      "4872/4872 [==============================] - 0s 52us/step - loss: 0.8265 - val_loss: 0.8460\n",
      "Epoch 11/40\n",
      "4872/4872 [==============================] - 0s 50us/step - loss: 0.7586 - val_loss: 0.7882\n",
      "Epoch 12/40\n",
      "4872/4872 [==============================] - 0s 58us/step - loss: 0.7073 - val_loss: 0.7473\n",
      "Epoch 13/40\n",
      "4872/4872 [==============================] - 0s 50us/step - loss: 0.6716 - val_loss: 0.7185\n",
      "Epoch 14/40\n",
      "4872/4872 [==============================] - 0s 66us/step - loss: 0.6440 - val_loss: 0.6959\n",
      "Epoch 15/40\n",
      "4872/4872 [==============================] - 0s 65us/step - loss: 0.6263 - val_loss: 0.6793\n",
      "Epoch 16/40\n",
      "4872/4872 [==============================] - 0s 58us/step - loss: 0.6126 - val_loss: 0.6683\n",
      "Epoch 17/40\n",
      "4872/4872 [==============================] - 0s 57us/step - loss: 0.6011 - val_loss: 0.6600\n",
      "Epoch 18/40\n",
      "4872/4872 [==============================] - 0s 56us/step - loss: 0.5931 - val_loss: 0.6517\n",
      "Epoch 19/40\n",
      "4872/4872 [==============================] - 0s 57us/step - loss: 0.5884 - val_loss: 0.6464\n",
      "Epoch 20/40\n",
      "4872/4872 [==============================] - 0s 62us/step - loss: 0.5812 - val_loss: 0.6461\n",
      "Epoch 21/40\n",
      "4872/4872 [==============================] - 0s 65us/step - loss: 0.5776 - val_loss: 0.6398\n",
      "Epoch 22/40\n",
      "4872/4872 [==============================] - 0s 76us/step - loss: 0.5739 - val_loss: 0.6355\n",
      "Epoch 23/40\n",
      "4872/4872 [==============================] - 0s 77us/step - loss: 0.5708 - val_loss: 0.6299\n",
      "Epoch 24/40\n",
      "4872/4872 [==============================] - 0s 58us/step - loss: 0.5666 - val_loss: 0.6291\n",
      "Epoch 25/40\n",
      "4872/4872 [==============================] - 0s 68us/step - loss: 0.5652 - val_loss: 0.6265\n",
      "Epoch 26/40\n",
      "4872/4872 [==============================] - 0s 53us/step - loss: 0.5617 - val_loss: 0.6223\n",
      "Epoch 27/40\n",
      "4872/4872 [==============================] - 0s 55us/step - loss: 0.5587 - val_loss: 0.6299\n",
      "Epoch 00027: early stopping\n"
     ]
    }
   ],
   "source": [
    "model_es = Sequential()\n",
    "\n",
    "n_input = X_train_s.shape[1]\n",
    "n_hidden = n_input\n",
    "\n",
    "model_es.add(Dense(n_hidden, input_dim=n_input, activation='relu'))\n",
    "model_es.add(Dense(1))\n",
    "\n",
    "model_es.compile(optimizer='adam', loss='mean_squared_error')\n",
    "\n",
    "early_stop = EarlyStopping(monitor='val_loss', min_delta=1e-08, patience=0, verbose=1,\n",
    "                           mode='auto')\n",
    "\n",
    "callbacks_list = [early_stop]\n",
    "\n",
    "history_es = model_es.fit(X_train_s, np.array(y_train),\n",
    "                          validation_data=(X_test_s, np.array(y_test)),\n",
    "                         epochs=40, batch_size=None, callbacks=callbacks_list)"
   ]
  },
  {
   "cell_type": "code",
   "execution_count": 27,
   "metadata": {},
   "outputs": [
    {
     "data": {
      "image/png": "[encoded data removed]",
      "text/plain": [
       "<Figure size 432x288 with 1 Axes>"
      ]
     },
     "metadata": {
      "needs_background": "light"
     },
     "output_type": "display_data"
    }
   ],
   "source": [
    "plt.plot(history_es.history['loss'], label='Training loss')\n",
    "plt.plot(history_es.history['val_loss'], label='Testing loss')\n",
    "plt.legend();"
   ]
  },
  {
   "cell_type": "code",
   "execution_count": 28,
   "metadata": {},
   "outputs": [
    {
     "data": {
      "text/plain": [
       "1007.0412740707397"
      ]
     },
     "execution_count": 28,
     "metadata": {},
     "output_type": "execute_result"
    }
   ],
   "source": [
    "sum(abs(np.array(model_es.predict(X_test_s).T) - np.array(y_test))[0])"
   ]
  },
  {
   "cell_type": "markdown",
   "metadata": {},
   "source": [
    "## Exercise"
   ]
  },
  {
   "cell_type": "markdown",
   "metadata": {},
   "source": [
    "Build your own network *with some sort of regularization built in* to predict digits using sklearn's `load_digits` dataset!\n",
    "\n",
    "The imports you need are in the next cell.\n",
    "\n",
    "Here are a couple hints and leading questions:\n",
    "\n",
    "1. You'll need to use `to_categorical()` on your target. (What does this function do?)\n",
    "2. What should your output layer look like? How many neurons should it have and what should your activation function be there?\n",
    "3. When we compile this network, what loss function should we use?"
   ]
  },
  {
   "cell_type": "code",
   "execution_count": 29,
   "metadata": {},
   "outputs": [],
   "source": [
    "from sklearn.datasets import load_digits\n",
    "from keras.utils import to_categorical"
   ]
  },
  {
   "cell_type": "code",
   "execution_count": 30,
   "metadata": {},
   "outputs": [
    {
     "name": "stdout",
     "output_type": "stream",
     "text": [
      "[[ 0.  0.  5. ...  0.  0.  0.]\n",
      " [ 0.  0.  0. ... 10.  0.  0.]\n",
      " [ 0.  0.  0. ... 16.  9.  0.]\n",
      " ...\n",
      " [ 0.  0.  1. ...  6.  0.  0.]\n",
      " [ 0.  0.  2. ... 12.  0.  0.]\n",
      " [ 0.  0. 10. ... 12.  1.  0.]]\n",
      "[0 1 2 ... 8 9 8]\n",
      ".. _digits_dataset:\n",
      "\n",
      "Optical recognition of handwritten digits dataset\n",
      "--------------------------------------------------\n",
      "\n",
      "**Data Set Characteristics:**\n",
      "\n",
      "    :Number of Instances: 5620\n",
      "    :Number of Attributes: 64\n",
      "    :Attribute Information: 8x8 image of integer pixels in the range 0..16.\n",
      "    :Missing Attribute Values: None\n",
      "    :Creator: E. Alpaydin (alpaydin '@' boun.edu.tr)\n",
      "    :Date: July; 1998\n",
      "\n",
      "This is a copy of the test set of the UCI ML hand-written digits datasets\n",
      "http://archive.ics.uci.edu/ml/datasets/Optical+Recognition+of+Handwritten+Digits\n",
      "\n",
      "The data set contains images of hand-written digits: 10 classes where\n",
      "each class refers to a digit.\n",
      "\n",
      "Preprocessing programs made available by NIST were used to extract\n",
      "normalized bitmaps of handwritten digits from a preprinted form. From a\n",
      "total of 43 people, 30 contributed to the training set and different 13\n",
      "to the test set. 32x32 bitmaps are divided into nonoverlapping blocks of\n",
      "4x4 and the number of on pixels are counted in each block. This generates\n",
      "an input matrix of 8x8 where each element is an integer in the range\n",
      "0..16. This reduces dimensionality and gives invariance to small\n",
      "distortions.\n",
      "\n",
      "For info on NIST preprocessing routines, see M. D. Garris, J. L. Blue, G.\n",
      "T. Candela, D. L. Dimmick, J. Geist, P. J. Grother, S. A. Janet, and C.\n",
      "L. Wilson, NIST Form-Based Handprint Recognition System, NISTIR 5469,\n",
      "1994.\n",
      "\n",
      ".. topic:: References\n",
      "\n",
      "  - C. Kaynak (1995) Methods of Combining Multiple Classifiers and Their\n",
      "    Applications to Handwritten Digit Recognition, MSc Thesis, Institute of\n",
      "    Graduate Studies in Science and Engineering, Bogazici University.\n",
      "  - E. Alpaydin, C. Kaynak (1998) Cascading Classifiers, Kybernetika.\n",
      "  - Ken Tang and Ponnuthurai N. Suganthan and Xi Yao and A. Kai Qin.\n",
      "    Linear dimensionalityreduction using relevance weighted LDA. School of\n",
      "    Electrical and Electronic Engineering Nanyang Technological University.\n",
      "    2005.\n",
      "  - Claudio Gentile. A New Approximate Maximal Margin Classification\n",
      "    Algorithm. NIPS. 2000.\n"
     ]
    }
   ],
   "source": [
    "data = load_digits()\n",
    "print(data.data)\n",
    "print(data.target)\n",
    "print(data.DESCR)"
   ]
  },
  {
   "cell_type": "code",
   "execution_count": 31,
   "metadata": {},
   "outputs": [
    {
     "data": {
      "image/png": "[encoded data removed]",
      "text/plain": [
       "<Figure size 288x288 with 1 Axes>"
      ]
     },
     "metadata": {
      "needs_background": "light"
     },
     "output_type": "display_data"
    }
   ],
   "source": [
    "plt.matshow(data.images[0]);"
   ]
  },
  {
   "cell_type": "code",
   "execution_count": 56,
   "metadata": {},
   "outputs": [],
   "source": [
    "X = data.data\n",
    "y = to_categorical(data.target, num_classes=10)"
   ]
  },
  {
   "cell_type": "code",
   "execution_count": 57,
   "metadata": {},
   "outputs": [],
   "source": [
    "X_train, X_test, y_train, y_test = train_test_split(X, \n",
    "                                                    y,\n",
    "                                                    random_state=11, \n",
    "                                                    stratify=y)"
   ]
  },
  {
   "cell_type": "code",
   "execution_count": 59,
   "metadata": {},
   "outputs": [
    {
     "data": {
      "text/plain": [
       "64"
      ]
     },
     "execution_count": 59,
     "metadata": {},
     "output_type": "execute_result"
    }
   ],
   "source": [
    "X_train.shape[1]"
   ]
  },
  {
   "cell_type": "code",
   "execution_count": 61,
   "metadata": {},
   "outputs": [],
   "source": [
    "model = Sequential()\n",
    "\n",
    "n_input = X_train.shape[1]\n",
    "\n",
    "model.add(Dense(n_input, input_dim=n_input, activation='relu'))\n",
    "model.add(Dense(10, activation='softmax'))"
   ]
  },
  {
   "cell_type": "code",
   "execution_count": 62,
   "metadata": {},
   "outputs": [],
   "source": [
    "model.compile(optimizer='adam', loss='categorical_crossentropy', metrics=['acc'])"
   ]
  },
  {
   "cell_type": "code",
   "execution_count": 63,
   "metadata": {},
   "outputs": [
    {
     "name": "stdout",
     "output_type": "stream",
     "text": [
      "Train on 1347 samples, validate on 450 samples\n",
      "Epoch 1/30\n",
      "1347/1347 [==============================] - 1s 631us/step - loss: 5.4908 - acc: 0.2673 - val_loss: 1.8856 - val_acc: 0.5133\n",
      "Epoch 2/30\n",
      "1347/1347 [==============================] - 0s 106us/step - loss: 1.0897 - acc: 0.7283 - val_loss: 0.7338 - val_acc: 0.8333\n",
      "Epoch 3/30\n",
      "1347/1347 [==============================] - 0s 84us/step - loss: 0.5262 - acc: 0.8664 - val_loss: 0.4357 - val_acc: 0.8733\n",
      "Epoch 4/30\n",
      "1347/1347 [==============================] - 0s 100us/step - loss: 0.3174 - acc: 0.9020 - val_loss: 0.3014 - val_acc: 0.9067\n",
      "Epoch 5/30\n",
      "1347/1347 [==============================] - 0s 174us/step - loss: 0.2282 - acc: 0.9243 - val_loss: 0.2355 - val_acc: 0.9267\n",
      "Epoch 6/30\n",
      "1347/1347 [==============================] - 0s 97us/step - loss: 0.1788 - acc: 0.9480 - val_loss: 0.2054 - val_acc: 0.9356\n",
      "Epoch 7/30\n",
      "1347/1347 [==============================] - 0s 82us/step - loss: 0.1416 - acc: 0.9569 - val_loss: 0.1725 - val_acc: 0.9378\n",
      "Epoch 8/30\n",
      "1347/1347 [==============================] - 0s 132us/step - loss: 0.1151 - acc: 0.9651 - val_loss: 0.1818 - val_acc: 0.9489\n",
      "Epoch 9/30\n",
      "1347/1347 [==============================] - 0s 118us/step - loss: 0.0987 - acc: 0.9703 - val_loss: 0.1416 - val_acc: 0.9489\n",
      "Epoch 10/30\n",
      "1347/1347 [==============================] - 0s 134us/step - loss: 0.0822 - acc: 0.9814 - val_loss: 0.1243 - val_acc: 0.9600\n",
      "Epoch 11/30\n",
      "1347/1347 [==============================] - 0s 115us/step - loss: 0.0718 - acc: 0.9814 - val_loss: 0.1250 - val_acc: 0.9600\n",
      "Epoch 12/30\n",
      "1347/1347 [==============================] - 0s 96us/step - loss: 0.0615 - acc: 0.9866 - val_loss: 0.1071 - val_acc: 0.9733\n",
      "Epoch 13/30\n",
      "1347/1347 [==============================] - 0s 79us/step - loss: 0.0563 - acc: 0.9859 - val_loss: 0.1182 - val_acc: 0.9644\n",
      "Epoch 14/30\n",
      "1347/1347 [==============================] - 0s 81us/step - loss: 0.0508 - acc: 0.9911 - val_loss: 0.1065 - val_acc: 0.9667\n",
      "Epoch 15/30\n",
      "1347/1347 [==============================] - 0s 105us/step - loss: 0.0449 - acc: 0.9933 - val_loss: 0.0955 - val_acc: 0.9711\n",
      "Epoch 16/30\n",
      "1347/1347 [==============================] - 0s 103us/step - loss: 0.0407 - acc: 0.9933 - val_loss: 0.0955 - val_acc: 0.9689\n",
      "Epoch 17/30\n",
      "1347/1347 [==============================] - 0s 84us/step - loss: 0.0368 - acc: 0.9941 - val_loss: 0.0865 - val_acc: 0.9733\n",
      "Epoch 18/30\n",
      "1347/1347 [==============================] - 0s 139us/step - loss: 0.0326 - acc: 0.9970 - val_loss: 0.0864 - val_acc: 0.9733\n",
      "Epoch 19/30\n",
      "1347/1347 [==============================] - 0s 208us/step - loss: 0.0301 - acc: 0.9963 - val_loss: 0.0843 - val_acc: 0.9711\n",
      "Epoch 20/30\n",
      "1347/1347 [==============================] - 0s 112us/step - loss: 0.0261 - acc: 0.9970 - val_loss: 0.0807 - val_acc: 0.9733\n",
      "Epoch 21/30\n",
      "1347/1347 [==============================] - 0s 129us/step - loss: 0.0263 - acc: 0.9978 - val_loss: 0.0775 - val_acc: 0.9756\n",
      "Epoch 22/30\n",
      "1347/1347 [==============================] - 0s 114us/step - loss: 0.0241 - acc: 0.9993 - val_loss: 0.0820 - val_acc: 0.9689\n",
      "Epoch 23/30\n",
      "1347/1347 [==============================] - 0s 126us/step - loss: 0.0244 - acc: 0.9978 - val_loss: 0.0740 - val_acc: 0.9756\n",
      "Epoch 24/30\n",
      "1347/1347 [==============================] - 0s 217us/step - loss: 0.0197 - acc: 0.9985 - val_loss: 0.0741 - val_acc: 0.9778\n",
      "Epoch 25/30\n",
      "1347/1347 [==============================] - 0s 87us/step - loss: 0.0179 - acc: 0.9985 - val_loss: 0.0733 - val_acc: 0.9733\n",
      "Epoch 26/30\n",
      "1347/1347 [==============================] - 0s 87us/step - loss: 0.0173 - acc: 0.9978 - val_loss: 0.0774 - val_acc: 0.9756\n",
      "Epoch 27/30\n",
      "1347/1347 [==============================] - 0s 81us/step - loss: 0.0166 - acc: 0.9993 - val_loss: 0.0741 - val_acc: 0.9756\n",
      "Epoch 28/30\n",
      "1347/1347 [==============================] - 0s 161us/step - loss: 0.0154 - acc: 0.9993 - val_loss: 0.0788 - val_acc: 0.9733\n",
      "Epoch 29/30\n",
      "1347/1347 [==============================] - 0s 183us/step - loss: 0.0141 - acc: 0.9993 - val_loss: 0.0709 - val_acc: 0.9800\n",
      "Epoch 30/30\n",
      "1347/1347 [==============================] - 0s 133us/step - loss: 0.0130 - acc: 0.9993 - val_loss: 0.0683 - val_acc: 0.9778\n"
     ]
    }
   ],
   "source": [
    "history = model.fit(X_train, np.array(y_train),\n",
    "                    validation_data=(X_test, np.array(y_test)),\n",
    "                   epochs=30, batch_size=None)"
   ]
  },
  {
   "cell_type": "code",
   "execution_count": null,
   "metadata": {},
   "outputs": [],
   "source": []
  }
 ],
 "metadata": {
  "kernelspec": {
   "display_name": "Python [conda env:learn-env] *",
   "language": "python",
   "name": "conda-env-learn-env-py"
  },
  "language_info": {
   "codemirror_mode": {
    "name": "ipython",
    "version": 3
   },
   "file_extension": ".py",
   "mimetype": "text/x-python",
   "name": "python",
   "nbconvert_exporter": "python",
   "pygments_lexer": "ipython3",
   "version": "3.6.6"
  }
 },
 "nbformat": 4,
 "nbformat_minor": 2
}
